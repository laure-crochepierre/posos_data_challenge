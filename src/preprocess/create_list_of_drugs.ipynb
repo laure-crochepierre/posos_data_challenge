{
 "cells": [
  {
   "cell_type": "code",
   "execution_count": 3,
   "metadata": {},
   "outputs": [],
   "source": [
    "import pandas as pd \n",
    "import numpy as np\n",
    "import itertools"
   ]
  },
  {
   "cell_type": "markdown",
   "metadata": {},
   "source": [
    "## Procedure utilisée pour créer une ligne assez exhaustive de médicaments"
   ]
  },
  {
   "cell_type": "code",
   "execution_count": 6,
   "metadata": {},
   "outputs": [],
   "source": [
    "data_source_path = '../../DATA/'"
   ]
  },
  {
   "cell_type": "markdown",
   "metadata": {},
   "source": [
    "Fichiers issus de https://www.data.gouv.fr/fr/datasets/evaluation-des-medicaments/#_\n"
   ]
  },
  {
   "cell_type": "code",
   "execution_count": 7,
   "metadata": {},
   "outputs": [],
   "source": [
    "df_medicaments_1 = pd.read_csv(data_source_path + 'BDD_medicaments/ASMR_20171123.csv', encoding = \"ISO-8859-1\", sep=';')\n",
    "df_medicaments_1[\"nom\"] = [x.split()[0][1:].lower() for x in df_medicaments_1[\"$Dénomination spécialité$\"] ]"
   ]
  },
  {
   "cell_type": "code",
   "execution_count": 9,
   "metadata": {},
   "outputs": [],
   "source": [
    "columns = ['Code CIS',\"Denomination\",\"Forme pharmaceutique\",\"voies d'administration\",\"Status\",\n",
    "           \"Type de procédure d'autorisation de mise sur le marché (AMM)\",\"Etat de commercialisation\",\n",
    "           \"Date d’AMM\",\"StatutBdm\",\"Numéro de l’autorisation européenne\",\"Titulaire(s)\",\"Surveillance renforcée\", \"Unkown\"]\n",
    "df_medicaments_2 = pd.read_table(data_source_path + \"BDD_medicaments/CIS_bdpm.txt\", encoding = \"ISO-8859-1\", sep='\\t', names = columns).drop(0).drop(1)"
   ]
  },
  {
   "cell_type": "markdown",
   "metadata": {},
   "source": [
    "Liste des médicaments remboursés par l'assurance maladie \n",
    "https://www.data.gouv.fr/fr/datasets/medicaments-rembourses-par-lassurance-maladie/#_"
   ]
  },
  {
   "cell_type": "code",
   "execution_count": 10,
   "metadata": {},
   "outputs": [
    {
     "data": {
      "text/plain": [
       "Index(['NOM COURT'], dtype='object')"
      ]
     },
     "execution_count": 10,
     "metadata": {},
     "output_type": "execute_result"
    }
   ],
   "source": [
    "df_medicaments_3 = pd.read_csv(data_source_path + 'BDD_medicaments/liste_medicaments_rembourses.csv', sep=';')\n",
    "df_medicaments_3.columns"
   ]
  },
  {
   "cell_type": "markdown",
   "metadata": {},
   "source": [
    "Liste des médicaments dopants https://www.data.gouv.fr/fr/datasets/liste-des-medicaments-et-des-substances-dopantes/#_"
   ]
  },
  {
   "cell_type": "code",
   "execution_count": 11,
   "metadata": {},
   "outputs": [
    {
     "data": {
      "text/plain": [
       "Index(['DenomSpe'], dtype='object')"
      ]
     },
     "execution_count": 11,
     "metadata": {},
     "output_type": "execute_result"
    }
   ],
   "source": [
    "df_medicaments_4 = pd.read_csv(data_source_path + 'BDD_medicaments/medicaments_dopants.csv', sep=';')\n",
    "df_medicaments_4.columns"
   ]
  },
  {
   "cell_type": "markdown",
   "metadata": {},
   "source": [
    "Medicaments non remboursables \n",
    "https://www.data.gouv.fr/fr/datasets/etude-sur-l-evolution-du-prix-des-produits-d-automedication-non-remboursables-en-france/#_"
   ]
  },
  {
   "cell_type": "code",
   "execution_count": 12,
   "metadata": {},
   "outputs": [
    {
     "data": {
      "text/plain": [
       "Index(['medicament'], dtype='object')"
      ]
     },
     "execution_count": 12,
     "metadata": {},
     "output_type": "execute_result"
    }
   ],
   "source": [
    "df_medicaments_5 = pd.read_csv(data_source_path + 'BDD_medicaments/Liste_Medicaments.csv', sep=';')\n",
    "df_medicaments_5.columns"
   ]
  },
  {
   "cell_type": "markdown",
   "metadata": {},
   "source": [
    "Liste empruntée au Github alexis-thual/posos-data-challenge"
   ]
  },
  {
   "cell_type": "code",
   "execution_count": 15,
   "metadata": {},
   "outputs": [
    {
     "data": {
      "text/plain": [
       "Index(['Titulaire', 'Code CIS', 'Dénomination spécialité', 'Libellé ATC',\n",
       "       'Code ATC', 'N° CESP', 'Date de dépôt',\n",
       "       'Code pictogramme\\n(1 ou 2 ou 3)'],\n",
       "      dtype='object')"
      ]
     },
     "execution_count": 15,
     "metadata": {},
     "output_type": "execute_result"
    }
   ],
   "source": [
    "df_medicaments_6 = pd.read_excel(data_source_path + 'BDD_medicaments/medicaments_france.xls', sep=';')\n",
    "df_medicaments_6.columns "
   ]
  },
  {
   "cell_type": "code",
   "execution_count": 24,
   "metadata": {},
   "outputs": [],
   "source": [
    "medicaments = []\n",
    "medics_to_process_1 = list(df_medicaments_1[\"nom\"].unique())\n",
    "medics_to_process_2 = [x.split()[0].lower() for x in df_medicaments_2[\"Denomination\"] ]\n",
    "medics_to_process_3 = [x.split()[0].lower() for x in df_medicaments_3['NOM COURT'] ]\n",
    "medics_to_process_4 = [x.split()[0].lower() for x in df_medicaments_4['DenomSpe'] ]\n",
    "medics_to_process_5 = [x.split()[0].lower() for x in df_medicaments_5['medicament'] ]\n",
    "medics_to_process_6 = [x.split()[0].lower() for x in df_medicaments_6['Dénomination spécialité']]\n",
    "\n",
    "medics_to_process = [medics_to_process_1, medics_to_process_2, medics_to_process_3,\\\n",
    "                     medics_to_process_4, medics_to_process_5, medics_to_process_6]\n",
    "\n",
    "for medics_list in medics_to_process:\n",
    "    for m in medics_list:\n",
    "        m_splited = m.split('/')\n",
    "        for i in range(len(m_splited)):\n",
    "            if not m_splited in medicaments:\n",
    "                medicaments.append(m_splited[i])"
   ]
  },
  {
   "cell_type": "code",
   "execution_count": 27,
   "metadata": {},
   "outputs": [],
   "source": [
    "# exporte liste de medicaments en fichier txt\n",
    "f = open(data_source_path+'medicaments.txt', 'w')\n",
    "for item in medicaments:\n",
    "    f.write(\"%s\\n\" % item)"
   ]
  },
  {
   "cell_type": "code",
   "execution_count": 28,
   "metadata": {},
   "outputs": [
    {
     "data": {
      "text/plain": [
       "True"
      ]
     },
     "execution_count": 28,
     "metadata": {},
     "output_type": "execute_result"
    }
   ],
   "source": [
    "'mercilon' in medicaments"
   ]
  },
  {
   "cell_type": "code",
   "execution_count": 29,
   "metadata": {},
   "outputs": [
    {
     "data": {
      "text/plain": [
       "55060"
      ]
     },
     "execution_count": 29,
     "metadata": {},
     "output_type": "execute_result"
    }
   ],
   "source": [
    "len(medicaments)"
   ]
  },
  {
   "cell_type": "code",
   "execution_count": null,
   "metadata": {},
   "outputs": [],
   "source": []
  }
 ],
 "metadata": {
  "kernelspec": {
   "display_name": "Python 3",
   "language": "python",
   "name": "python3"
  },
  "language_info": {
   "codemirror_mode": {
    "name": "ipython",
    "version": 3
   },
   "file_extension": ".py",
   "mimetype": "text/x-python",
   "name": "python",
   "nbconvert_exporter": "python",
   "pygments_lexer": "ipython3",
   "version": "3.5.2"
  }
 },
 "nbformat": 4,
 "nbformat_minor": 2
}
