{
 "cells": [
  {
   "cell_type": "code",
   "execution_count": 2,
   "metadata": {},
   "outputs": [],
   "source": [
    "import pandas as pd \n",
    "import numpy as np\n",
    "import itertools"
   ]
  },
  {
   "cell_type": "code",
   "execution_count": 7,
   "metadata": {},
   "outputs": [
    {
     "data": {
      "text/plain": [
       "Index(['﻿Symptome'], dtype='object')"
      ]
     },
     "execution_count": 7,
     "metadata": {},
     "output_type": "execute_result"
    }
   ],
   "source": [
    "df_symptomes_1 = pd.read_csv('DATA/BDD_medicaments/Liste_Symptomes.csv', sep=';')\n",
    "df_symptomes_1.columns"
   ]
  },
  {
   "cell_type": "code",
   "execution_count": 8,
   "metadata": {},
   "outputs": [
    {
     "data": {
      "text/plain": [
       "Int64Index([0], dtype='int64')"
      ]
     },
     "execution_count": 8,
     "metadata": {},
     "output_type": "execute_result"
    }
   ],
   "source": [
    "df_symptomes_2 = pd.DataFrame(['angoisse', 'stress', 'diarrhée', 'douleur','fatigue', 'fièvre','température','frissons','céphalée','nausée','vomissement','saignement','malaise','sueur', 'tremblement','vertige'])\n",
    "df_symptomes_2.columns"
   ]
  },
  {
   "cell_type": "code",
   "execution_count": 9,
   "metadata": {},
   "outputs": [],
   "source": [
    "symptomes = []\n",
    "symptomes_to_process_1 = [x.lower() for x in df_symptomes_1['﻿Symptome'].unique()]\n",
    "symptomes_to_process_2 = [x.lower() for x in df_symptomes_2[0] ]\n",
    "\n",
    "symptomes_to_process = [symptomes_to_process_1, symptomes_to_process_2]\n",
    "\n",
    "for symptomes_list in symptomes_to_process:\n",
    "    for m in symptomes_list:\n",
    "        m_splited = m.split('/')\n",
    "        for i in range(len(m_splited)):\n",
    "            if not m_splited in symptomes:\n",
    "                symptomes.append(m_splited[i])"
   ]
  },
  {
   "cell_type": "code",
   "execution_count": 11,
   "metadata": {},
   "outputs": [],
   "source": [
    "f = open('DATA/symptomes.txt', 'w')\n",
    "for item in symptomes:\n",
    "    f.write(\"%s\\n\" % item)"
   ]
  },
  {
   "cell_type": "code",
   "execution_count": 13,
   "metadata": {},
   "outputs": [
    {
     "data": {
      "text/plain": [
       "202"
      ]
     },
     "execution_count": 13,
     "metadata": {},
     "output_type": "execute_result"
    }
   ],
   "source": [
    "len(symptomes)"
   ]
  },
  {
   "cell_type": "code",
   "execution_count": null,
   "metadata": {},
   "outputs": [],
   "source": []
  }
 ],
 "metadata": {
  "kernelspec": {
   "display_name": "Python 3",
   "language": "python",
   "name": "python3"
  },
  "language_info": {
   "codemirror_mode": {
    "name": "ipython",
    "version": 3
   },
   "file_extension": ".py",
   "mimetype": "text/x-python",
   "name": "python",
   "nbconvert_exporter": "python",
   "pygments_lexer": "ipython3",
   "version": "3.5.2"
  }
 },
 "nbformat": 4,
 "nbformat_minor": 2
}
