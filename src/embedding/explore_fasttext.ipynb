{
 "cells": [
  {
   "cell_type": "code",
   "execution_count": 1,
   "metadata": {},
   "outputs": [],
   "source": [
    "import pandas as pd\n",
    "import numpy as np\n",
    "import time\n",
    "import matplotlib.pyplot as plt\n",
    "import gensim \n",
    "import os\n",
    "from gensim.models import FastText\n",
    "from gensim.models.callbacks import CallbackAny2Vec\n",
    "from gensim.test.utils import get_tmpfile\n",
    "\n",
    "from sklearn.manifold import TSNE"
   ]
  },
  {
   "cell_type": "code",
   "execution_count": 2,
   "metadata": {},
   "outputs": [],
   "source": [
    "def load_model(strategy):\n",
    "    embedding_path = \"../../DATA/input_train/\"+strategy+\"/\"\n",
    "    model = gensim.models.KeyedVectors.load_word2vec_format(embedding_path+\"fr_posos.bin\",\n",
    "                                                            fvocab = embedding_path+\"fr_vocab_posos.txt\", \n",
    "                                                            binary = True)\n",
    "    return model"
   ]
  },
  {
   "cell_type": "markdown",
   "metadata": {},
   "source": [
    "## Explore soft model"
   ]
  },
  {
   "cell_type": "code",
   "execution_count": 3,
   "metadata": {},
   "outputs": [],
   "source": [
    "model_soft = load_model('soft')"
   ]
  },
  {
   "cell_type": "code",
   "execution_count": 4,
   "metadata": {},
   "outputs": [
    {
     "data": {
      "text/plain": [
       "[('femmes', 0.8564898371696472),\n",
       " ('tombée', 0.4782788157463074),\n",
       " ('homme', 0.4496311843395233),\n",
       " ('tombé', 0.4441327452659607),\n",
       " ('tombe', 0.4399041533470154),\n",
       " ('sg', 0.4276544153690338),\n",
       " ('tomber', 0.39237430691719055),\n",
       " ('patiente', 0.37483054399490356),\n",
       " ('appris', 0.36021730303764343),\n",
       " ('corticoïdes', 0.35344362258911133)]"
      ]
     },
     "execution_count": 4,
     "metadata": {},
     "output_type": "execute_result"
    }
   ],
   "source": [
    "model_soft.most_similar([\"femme\"], topn=10)"
   ]
  },
  {
   "cell_type": "markdown",
   "metadata": {},
   "source": [
    "## Explore model with no accent"
   ]
  },
  {
   "cell_type": "code",
   "execution_count": 5,
   "metadata": {},
   "outputs": [],
   "source": [
    "model_no_accent = load_model('no_accent')"
   ]
  },
  {
   "cell_type": "code",
   "execution_count": 6,
   "metadata": {},
   "outputs": [
    {
     "data": {
      "text/plain": [
       "[('femmes', 0.8792619705200195),\n",
       " ('sg', 0.5141574740409851),\n",
       " ('homme', 0.5127766132354736),\n",
       " ('tombee', 0.4655846357345581),\n",
       " ('hommes', 0.4606422781944275),\n",
       " ('patiente', 0.45002931356430054),\n",
       " ('rdv', 0.4499751329421997),\n",
       " ('patients', 0.44738325476646423),\n",
       " ('patient', 0.4365091323852539),\n",
       " ('tombe', 0.4360780715942383)]"
      ]
     },
     "execution_count": 6,
     "metadata": {},
     "output_type": "execute_result"
    }
   ],
   "source": [
    "model_no_accent.most_similar([\"femme\"], topn=10)"
   ]
  },
  {
   "cell_type": "code",
   "execution_count": 7,
   "metadata": {},
   "outputs": [],
   "source": [
    "f_moins_h = model_no_accent['femme']-model_no_accent['homme'] "
   ]
  },
  {
   "cell_type": "code",
   "execution_count": 8,
   "metadata": {},
   "outputs": [
    {
     "data": {
      "text/plain": [
       "[('ejaculation', 0.3233213722705841),\n",
       " ('environ', 0.32219427824020386),\n",
       " ('relation', 0.3171359598636627),\n",
       " ('membron', 0.31242355704307556),\n",
       " ('atteinte', 0.305403470993042),\n",
       " ('maintenant', 0.29485321044921875),\n",
       " ('intestinale', 0.2927056550979614),\n",
       " ('ovulation', 0.273392915725708),\n",
       " ('substitution', 0.26973411440849304),\n",
       " ('limite', 0.26726263761520386)]"
      ]
     },
     "execution_count": 8,
     "metadata": {},
     "output_type": "execute_result"
    }
   ],
   "source": [
    "model_no_accent.most_similar(positive=['homme','enceinte'], negative=['femme'])"
   ]
  },
  {
   "cell_type": "code",
   "execution_count": 9,
   "metadata": {},
   "outputs": [
    {
     "data": {
      "text/plain": [
       "[('adultes', 0.48268142342567444),\n",
       " ('patients', 0.42689263820648193),\n",
       " ('rdv', 0.4010530114173889),\n",
       " ('parents', 0.38615673780441284),\n",
       " ('patiente', 0.36329445242881775),\n",
       " ('patient', 0.3384075462818146),\n",
       " ('apparue', 0.3171440064907074),\n",
       " ('apparemment', 0.31018611788749695),\n",
       " ('voltarene', 0.30255329608917236),\n",
       " ('toilette', 0.2930900752544403)]"
      ]
     },
     "execution_count": 9,
     "metadata": {},
     "output_type": "execute_result"
    }
   ],
   "source": [
    "model_no_accent.most_similar(positive=['adulte'], negative=['age'])"
   ]
  },
  {
   "cell_type": "code",
   "execution_count": 10,
   "metadata": {},
   "outputs": [
    {
     "data": {
      "text/plain": [
       "[('voyage', 0.4466325044631958),\n",
       " ('usage', 0.4210672974586487),\n",
       " ('enfants', 0.3890521228313446),\n",
       " ('cortisone', 0.34604424238204956),\n",
       " ('fils', 0.32477647066116333),\n",
       " ('trois', 0.3237701952457428),\n",
       " ('ge', 0.3227575719356537),\n",
       " ('b', 0.3087555468082428),\n",
       " ('pc', 0.3064334988594055),\n",
       " ('rappel', 0.29131683707237244)]"
      ]
     },
     "execution_count": 10,
     "metadata": {},
     "output_type": "execute_result"
    }
   ],
   "source": [
    "model_no_accent.most_similar(positive=['enfant','age'], negative=['adulte'])"
   ]
  },
  {
   "cell_type": "markdown",
   "metadata": {},
   "source": [
    "## Explore model with stemming"
   ]
  },
  {
   "cell_type": "code",
   "execution_count": 11,
   "metadata": {},
   "outputs": [],
   "source": [
    "model_stemming = load_model('stemming')"
   ]
  },
  {
   "cell_type": "code",
   "execution_count": 12,
   "metadata": {},
   "outputs": [
    {
     "data": {
      "text/plain": [
       "[('gynéco', 0.4379604756832123),\n",
       " ('médecin', 0.41605496406555176),\n",
       " ('ancien', 0.36724790930747986),\n",
       " ('doc', 0.3515803813934326),\n",
       " ('cicatric', 0.34740161895751953),\n",
       " ('sg', 0.33731627464294434),\n",
       " ('mm', 0.33683276176452637),\n",
       " ('calcibronat', 0.33278754353523254),\n",
       " ('m', 0.3319445252418518),\n",
       " ('gym', 0.32532599568367004)]"
      ]
     },
     "execution_count": 12,
     "metadata": {},
     "output_type": "execute_result"
    }
   ],
   "source": [
    "model_stemming.most_similar(positive=['pédiatr','femm'], negative=['enfant'])"
   ]
  },
  {
   "cell_type": "code",
   "execution_count": 13,
   "metadata": {},
   "outputs": [
    {
     "data": {
      "text/plain": [
       "[('enfant', 0.41694557666778564),\n",
       " ('supprim', 0.4018644094467163),\n",
       " ('fill', 0.3977648615837097),\n",
       " ('homm', 0.3682008981704712),\n",
       " ('suppos', 0.3660631775856018),\n",
       " ('nourrisson', 0.3452257513999939),\n",
       " ('adné', 0.31737369298934937),\n",
       " ('allerg', 0.3131595253944397),\n",
       " ('support', 0.3030516505241394),\n",
       " ('fich', 0.2962445020675659)]"
      ]
     },
     "execution_count": 13,
     "metadata": {},
     "output_type": "execute_result"
    }
   ],
   "source": [
    "model_stemming.most_similar(positive=['âgé','adult'], negative=['jeun'])"
   ]
  },
  {
   "cell_type": "code",
   "execution_count": 14,
   "metadata": {},
   "outputs": [
    {
     "data": {
      "text/plain": [
       "[('enfant', 0.41694557666778564),\n",
       " ('supprim', 0.4018644094467163),\n",
       " ('fill', 0.3977648615837097),\n",
       " ('homm', 0.3682008981704712),\n",
       " ('suppos', 0.3660631775856018),\n",
       " ('nourrisson', 0.3452257513999939),\n",
       " ('adné', 0.31737369298934937),\n",
       " ('allerg', 0.3131595253944397),\n",
       " ('support', 0.3030516505241394),\n",
       " ('fich', 0.2962445020675659)]"
      ]
     },
     "execution_count": 14,
     "metadata": {},
     "output_type": "execute_result"
    }
   ],
   "source": [
    "model_stemming.most_similar(positive=['âgé','adult'], negative=['jeun'])"
   ]
  },
  {
   "cell_type": "code",
   "execution_count": 15,
   "metadata": {},
   "outputs": [
    {
     "data": {
      "text/plain": [
       "[('semain', 0.6013951301574707),\n",
       " ('an', 0.48737025260925293),\n",
       " ('journali', 0.44771409034729004),\n",
       " ('anné', 0.4185478687286377),\n",
       " ('jou', 0.39527076482772827),\n",
       " ('journ', 0.3508337140083313),\n",
       " ('juin', 0.3495370149612427),\n",
       " ('minut', 0.33221542835235596),\n",
       " ('ok', 0.3177497982978821),\n",
       " ('valérian', 0.31620359420776367)]"
      ]
     },
     "execution_count": 15,
     "metadata": {},
     "output_type": "execute_result"
    }
   ],
   "source": [
    "model_stemming.most_similar(positive=['mois','jour'])"
   ]
  },
  {
   "cell_type": "code",
   "execution_count": 16,
   "metadata": {},
   "outputs": [
    {
     "data": {
      "text/plain": [
       "[('dépresseur', 0.41024959087371826),\n",
       " ('antibiot', 0.3995637893676758),\n",
       " ('antalg', 0.38374194502830505),\n",
       " ('sépi', 0.3726158142089844),\n",
       " ('crister', 0.35172343254089355),\n",
       " ('progress', 0.3308964669704437),\n",
       " ('éjacul', 0.3285560607910156),\n",
       " ('cess', 0.3237244188785553),\n",
       " ('ancien', 0.32158076763153076),\n",
       " ('anti', 0.3178263306617737)]"
      ]
     },
     "execution_count": 16,
     "metadata": {},
     "output_type": "execute_result"
    }
   ],
   "source": [
    "model_stemming.most_similar(positive=['ok','antidépresseur'],negative=['non'])"
   ]
  },
  {
   "cell_type": "markdown",
   "metadata": {},
   "source": [
    "## Explore model with stemming and without accent"
   ]
  },
  {
   "cell_type": "code",
   "execution_count": 17,
   "metadata": {},
   "outputs": [],
   "source": [
    "model_stemming_no_accent = load_model('stemming_no_accent')"
   ]
  },
  {
   "cell_type": "code",
   "execution_count": 20,
   "metadata": {},
   "outputs": [
    {
     "data": {
      "text/plain": [
       "[('depresseur', 0.4693041443824768),\n",
       " ('annul', 0.37050050497055054),\n",
       " ('ad', 0.3627379238605499),\n",
       " ('antibiot', 0.3547939658164978),\n",
       " ('moiti', 0.33712780475616455),\n",
       " ('valerian', 0.3283240795135498),\n",
       " ('molecul', 0.3194998800754547),\n",
       " ('statin', 0.31861573457717896),\n",
       " ('anti', 0.3174428343772888),\n",
       " ('granul', 0.30949005484580994)]"
      ]
     },
     "execution_count": 20,
     "metadata": {},
     "output_type": "execute_result"
    }
   ],
   "source": [
    "model_stemming_no_accent.most_similar(positive=['ok','antidepresseur'],negative=['non'])"
   ]
  },
  {
   "cell_type": "code",
   "execution_count": 26,
   "metadata": {},
   "outputs": [
    {
     "data": {
      "text/plain": [
       "[('ampoules', 0.5794285535812378),\n",
       " ('grand', 0.38648971915245056),\n",
       " ('grande', 0.3852323293685913),\n",
       " ('ovules', 0.3642845153808594),\n",
       " ('gras', 0.3426024317741394),\n",
       " ('gelules', 0.3408167064189911),\n",
       " ('prenez', 0.3349892497062683),\n",
       " ('homeopathiques', 0.33269166946411133),\n",
       " ('sepia', 0.313345342874527),\n",
       " ('dilue', 0.31069672107696533)]"
      ]
     },
     "execution_count": 26,
     "metadata": {},
     "output_type": "execute_result"
    }
   ],
   "source": [
    "model_no_accent.most_similar('granules')"
   ]
  },
  {
   "cell_type": "code",
   "execution_count": null,
   "metadata": {},
   "outputs": [],
   "source": []
  }
 ],
 "metadata": {
  "kernelspec": {
   "display_name": "Python 3",
   "language": "python",
   "name": "python3"
  },
  "language_info": {
   "codemirror_mode": {
    "name": "ipython",
    "version": 3
   },
   "file_extension": ".py",
   "mimetype": "text/x-python",
   "name": "python",
   "nbconvert_exporter": "python",
   "pygments_lexer": "ipython3",
   "version": "3.5.2"
  }
 },
 "nbformat": 4,
 "nbformat_minor": 2
}
