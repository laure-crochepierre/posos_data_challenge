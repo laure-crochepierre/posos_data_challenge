{
 "cells": [
  {
   "cell_type": "code",
   "execution_count": 1,
   "metadata": {},
   "outputs": [],
   "source": [
    "import pandas as pd\n",
    "import numpy as np\n",
    "import time\n",
    "import matplotlib.pyplot as plt\n",
    "import gensim \n",
    "from gensim.models import FastText\n",
    "from gensim.models.callbacks import CallbackAny2Vec\n",
    "from gensim.test.utils import os\n",
    "\n",
    "from sklearn.manifold import TSNE"
   ]
  },
  {
   "cell_type": "code",
   "execution_count": 2,
   "metadata": {},
   "outputs": [],
   "source": [
    "# Data source path \n",
    "data_source_path = \"../../DATA/\""
   ]
  },
  {
   "cell_type": "code",
   "execution_count": 3,
   "metadata": {},
   "outputs": [],
   "source": [
    "# Import data\n",
    "strategy = 'soft'\n",
    "X_train = pd.read_csv(data_source_path+'input_train/'+strategy+'/clean_input_to_train.csv', sep=\";\", index_col=0)\n",
    "X_test = pd.read_csv(data_source_path+'input_test/'+strategy+'/clean_input_to_test.csv', sep=\";\", index_col=0)"
   ]
  },
  {
   "cell_type": "code",
   "execution_count": 10,
   "metadata": {},
   "outputs": [],
   "source": [
    "sentences = [sentence.split() for sentence in X_train['question']]\n",
    "for sentence in X_test['question']:\n",
    "    sentences.append(sentence.split())"
   ]
  },
  {
   "cell_type": "code",
   "execution_count": null,
   "metadata": {},
   "outputs": [],
   "source": []
  },
  {
   "cell_type": "code",
   "execution_count": 5,
   "metadata": {},
   "outputs": [
    {
     "name": "stdout",
     "output_type": "stream",
     "text": [
      "1006\n"
     ]
    }
   ],
   "source": [
    "number_of_too_short_sentences = 0\n",
    "for i in range(len(sentences)): \n",
    "    if len(sentences[i])<=3: \n",
    "        #print('indice', i, 'sentences', sentences[i])\n",
    "        number_of_too_short_sentences +=1\n",
    "print(number_of_too_short_sentences)"
   ]
  },
  {
   "cell_type": "markdown",
   "metadata": {},
   "source": [
    "# Train fasttext in french"
   ]
  },
  {
   "cell_type": "code",
   "execution_count": 6,
   "metadata": {},
   "outputs": [
    {
     "name": "stdout",
     "output_type": "stream",
     "text": [
      "number of cpus : 4\n",
      "directory :  /home/laure/Documents/posos_data_challenge/src/embedding\n"
     ]
    }
   ],
   "source": [
    "print('number of cpus :', os.cpu_count()) \n",
    "print('directory : ', os.getcwd())"
   ]
  },
  {
   "cell_type": "code",
   "execution_count": 11,
   "metadata": {},
   "outputs": [],
   "source": [
    "class EpochSaver(CallbackAny2Vec):\n",
    "    \"Callback to save model after every epoch\"\n",
    "    def __init__(self, path_prefix):\n",
    "        self.path_prefix = path_prefix\n",
    "        self.epoch = 0\n",
    "        self.epoch_duration = 0.0\n",
    "        self.epoch_start_time = time.time()\n",
    "        \n",
    "        \n",
    "    def on_epoch_end(self, model):\n",
    "        output_path = '{}_epoch_{} '.format(self.path_prefix, self.epoch)\n",
    "        if(self.epoch % 3000 == 0):\n",
    "            model.wv.save_word2vec_format(fname = data_source_path+'input_train/'+strategy+'/'+output_path+'fr_posos.bin', \n",
    "                                          fvocab=data_source_path+'input_train/'+strategy+'/'+output_path+'fr_vocab_posos.txt', \n",
    "                                          binary=True)\n",
    "        \n",
    "        self.epoch_duration = (time.time() - self.epoch_start_time)/(1+self.epoch)\n",
    "        REMAINING_HOURS = int((EPOCHS-self.epoch)* self.epoch_duration / 3600)\n",
    "        REMAINING_MINUTES = int(((EPOCHS-self.epoch)* self.epoch_duration - REMAINING_HOURS*3600)/60)\n",
    "        print(\"Epoch {}, model saved to {}, {} hour(s) {} minutes \".format(self.epoch,\n",
    "                                                                           output_path, \n",
    "                                                                           REMAINING_HOURS,\n",
    "                                                                           REMAINING_MINUTES),\n",
    "              end='\\r')\n",
    "        self.epoch += 1\n"
   ]
  },
  {
   "cell_type": "code",
   "execution_count": 12,
   "metadata": {},
   "outputs": [
    {
     "name": "stdout",
     "output_type": "stream",
     "text": [
      "10.791255712509155ed to temporary_model_epoch_9 , 0 hour(s) 0 minutes \n"
     ]
    }
   ],
   "source": [
    "debut = time.time()\n",
    "EPOCHS = 10\n",
    "MIN_COUNT = 5\n",
    "SIZE = 100\n",
    "WINDOW = 4\n",
    "ALPHA = 0.075\n",
    "NGRAMS = 1\n",
    "\n",
    "epoch_saver = EpochSaver('temporary_model')\n",
    "scratch_model  = FastText(sentences, \n",
    "                          size = SIZE,\n",
    "                          alpha=ALPHA, \n",
    "                          window=WINDOW, \n",
    "                          word_ngrams=NGRAMS,\n",
    "                          min_count=MIN_COUNT, \n",
    "                          workers=os.cpu_count(),\n",
    "                          iter=EPOCHS,\n",
    "                          callbacks=[epoch_saver])\n",
    "fin = time.time()\n",
    "print(fin-debut)"
   ]
  },
  {
   "cell_type": "code",
   "execution_count": null,
   "metadata": {},
   "outputs": [],
   "source": [
    "scratch_model.wv.save_word2vec_format(fname = data_source_path+'input_train/'+strategy+'/fr_posos.bin', \n",
    "                                      fvocab=data_source_path+'input_train/'+strategy+'/fr_vocab_posos.txt', \n",
    "                                      binary=True)"
   ]
  },
  {
   "cell_type": "markdown",
   "metadata": {},
   "source": [
    "# Plot TSNE \n",
    "taken from https://www.kaggle.com/jeffd23/visualizing-word-vectors-with-t-sne"
   ]
  },
  {
   "cell_type": "code",
   "execution_count": null,
   "metadata": {},
   "outputs": [],
   "source": [
    "def tsne_plot(model):\n",
    "    \"Creates and TSNE model and plots it\"\n",
    "    labels = []\n",
    "    tokens = []\n",
    "\n",
    "    for word in model.vocab:\n",
    "        tokens.append(model[word])\n",
    "        labels.append(word)\n",
    "    \n",
    "    tsne_model = TSNE(perplexity=40, n_components=2, init='pca', n_iter=2500, random_state=23)\n",
    "    new_values = tsne_model.fit_transform(tokens)\n",
    "\n",
    "    x = []\n",
    "    y = []\n",
    "    for value in new_values:\n",
    "        x.append(value[0])\n",
    "        y.append(value[1])\n",
    "        \n",
    "    plt.figure(figsize=(16, 16)) \n",
    "    for i in range(len(x)):\n",
    "        plt.scatter(x[i],y[i])\n",
    "        plt.annotate(labels[i],\n",
    "                     xy=(x[i], y[i]),\n",
    "                     xytext=(5, 2),\n",
    "                     textcoords='offset points',\n",
    "                     ha='right',\n",
    "                     va='bottom')\n",
    "    plt.show()\n"
   ]
  },
  {
   "cell_type": "code",
   "execution_count": null,
   "metadata": {},
   "outputs": [],
   "source": [
    "scratch_model_to_plot =gensim.models.KeyedVectors.load_word2vec_format(fname =data_source_path+'input_train/'+strategy+'/fr_stemming_no_accent.bin', \n",
    "                                                                       fvocab=data_source_path+'trained_vectors/custom_word2vec/fr_vocab_stemming_no_accent.txt', \n",
    "                                                                       binary=True)"
   ]
  },
  {
   "cell_type": "code",
   "execution_count": null,
   "metadata": {
    "scrolled": true
   },
   "outputs": [],
   "source": [
    "tsne_plot(scratch_model_to_plot)"
   ]
  },
  {
   "cell_type": "code",
   "execution_count": null,
   "metadata": {},
   "outputs": [],
   "source": [
    "scratch_model_to_plot.most_similar([\"jeud\"], topn=50)"
   ]
  },
  {
   "cell_type": "code",
   "execution_count": null,
   "metadata": {},
   "outputs": [],
   "source": []
  }
 ],
 "metadata": {
  "kernelspec": {
   "display_name": "Python 3",
   "language": "python",
   "name": "python3"
  },
  "language_info": {
   "codemirror_mode": {
    "name": "ipython",
    "version": 3
   },
   "file_extension": ".py",
   "mimetype": "text/x-python",
   "name": "python",
   "nbconvert_exporter": "python",
   "pygments_lexer": "ipython3",
   "version": "3.5.2"
  }
 },
 "nbformat": 4,
 "nbformat_minor": 2
}
