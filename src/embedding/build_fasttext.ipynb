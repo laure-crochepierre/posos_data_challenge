{
 "cells": [
  {
   "cell_type": "code",
   "execution_count": 1,
   "metadata": {},
   "outputs": [],
   "source": [
    "import pandas as pd\n",
    "import numpy as np\n",
    "import time\n",
    "import matplotlib.pyplot as plt\n",
    "import gensim \n",
    "import os\n",
    "from gensim.models import FastText\n",
    "from gensim.models.callbacks import CallbackAny2Vec\n",
    "from gensim.test.utils import get_tmpfile\n",
    "\n",
    "from sklearn.manifold import TSNE"
   ]
  },
  {
   "cell_type": "code",
   "execution_count": 2,
   "metadata": {},
   "outputs": [],
   "source": [
    "# Data source path \n",
    "data_source_path = \"../../DATA/\""
   ]
  },
  {
   "cell_type": "code",
   "execution_count": 3,
   "metadata": {},
   "outputs": [],
   "source": [
    "# Import data\n",
    "X = pd.read_csv(data_source_path+'clean_data/smart_soft_cleaning_with_nltk_stemming.csv', sep=\";\", index_col=0)\n",
    "y = pd.read_csv(data_source_path+'output_train.csv', sep=\";\", index_col=0)\n",
    "\n",
    "features = X.columns\n",
    "targets = y['intention'].unique()"
   ]
  },
  {
   "cell_type": "code",
   "execution_count": 4,
   "metadata": {},
   "outputs": [],
   "source": [
    "X = X[X['question'].notnull()]"
   ]
  },
  {
   "cell_type": "code",
   "execution_count": 5,
   "metadata": {},
   "outputs": [],
   "source": [
    "sentences = [sentence.split() for sentence in X['question']]"
   ]
  },
  {
   "cell_type": "markdown",
   "metadata": {},
   "source": [
    "# Train fasttext in french"
   ]
  },
  {
   "cell_type": "code",
   "execution_count": 6,
   "metadata": {},
   "outputs": [
    {
     "name": "stdout",
     "output_type": "stream",
     "text": [
      "number of cpus : 4\n",
      "<built-in function setuid>\n"
     ]
    }
   ],
   "source": [
    "print('number of cpus :', os.cpu_count()) \n",
    "print(os.setuid)"
   ]
  },
  {
   "cell_type": "code",
   "execution_count": 18,
   "metadata": {},
   "outputs": [],
   "source": [
    "class EpochSaver(CallbackAny2Vec):\n",
    "    \"Callback to save model after every epoch\"\n",
    "    def __init__(self, path_prefix):\n",
    "        self.path_prefix = path_prefix\n",
    "        self.epoch = 0\n",
    "        self.epoch_duration = 0.0\n",
    "        self.epoch_start_time = time.time()\n",
    "        \n",
    "        \n",
    "    def on_epoch_end(self, model):\n",
    "        output_path = '{}_epoch{}.model'.format(self.path_prefix, self.epoch)\n",
    "        model.save(output_path)\n",
    "        self.epoch_duration = (time.time() - self.epoch_start_time)/(1+self.epoch)\n",
    "        print(\"Epoch {}, model saved to {}, {} hour(s) {} minutes \".format(self.epoch,\n",
    "                                                                           output_path, \n",
    "                                                                           (EPOCHS-self.epoch)*int(self.epoch_duration / 60), \n",
    "              end='\\r')\n",
    "        self.epoch += 1"
   ]
  },
  {
   "cell_type": "code",
   "execution_count": 19,
   "metadata": {},
   "outputs": [
    {
     "name": "stdout",
     "output_type": "stream",
     "text": [
      "7060.743767261505 saved to /tmp/temporary_model_epoch9999.model, 0.011767824745575587 minute left or 0.0001961304124262598 hour(s))\n"
     ]
    }
   ],
   "source": [
    "debut = time.time()\n",
    "EPOCHS = 10000\n",
    "MIN_COUNT = 5\n",
    "SIZE = 100\n",
    "WINDOW = 4\n",
    "ALPHA = 0.075\n",
    "NGRAMS = 1\n",
    "\n",
    "epoch_saver = EpochSaver(get_tmpfile(\"temporary_model\"))\n",
    "scratch_model  = FastText(sentences, \n",
    "                          size = SIZE,\n",
    "                          alpha=ALPHA, \n",
    "                          window=WINDOW, \n",
    "                          word_ngrams=NGRAMS,\n",
    "                          min_count=MIN_COUNT, \n",
    "                          workers=os.cpu_count(),\n",
    "                          iter=EPOCHS,\n",
    "                          callbacks=[epoch_saver])\n",
    "fin = time.time()\n",
    "print(fin-debut)"
   ]
  },
  {
   "cell_type": "code",
   "execution_count": null,
   "metadata": {},
   "outputs": [],
   "source": [
    "\"\"\"To test : \n",
    "sg=1,\n",
    "sample=0.01, \n",
    "iter=EPOCHS)\"\"\""
   ]
  },
  {
   "cell_type": "code",
   "execution_count": 20,
   "metadata": {},
   "outputs": [],
   "source": [
    "scratch_model.wv.save_word2vec_format(fname = data_source_path+'trained_vectors/custom_word2vec/fr_stemming_no_accent.bin', \n",
    "                                          fvocab=data_source_path+'trained_vectors/custom_word2vec/fr_vocab_stemming_no_accent.txt', \n",
    "                                          binary=True)"
   ]
  },
  {
   "cell_type": "markdown",
   "metadata": {},
   "source": [
    "## Test custom word2vec in french built from scratch"
   ]
  },
  {
   "cell_type": "code",
   "execution_count": null,
   "metadata": {},
   "outputs": [],
   "source": [
    "model_in_training = gensim.models.KeyedVectors.load('/tmp/temporary_model_epoch10.model')"
   ]
  },
  {
   "cell_type": "code",
   "execution_count": null,
   "metadata": {},
   "outputs": [],
   "source": [
    "model_in_training.wv.most_similar([\"jeudi\"], topn=50)"
   ]
  },
  {
   "cell_type": "code",
   "execution_count": 21,
   "metadata": {},
   "outputs": [],
   "source": [
    "scratch_model_to_plot =gensim.models.KeyedVectors.load_word2vec_format(fname =data_source_path+'trained_vectors/custom_word2vec/fr_stemming_no_accent.bin', \n",
    "                                                                       fvocab=data_source_path+'trained_vectors/custom_word2vec/fr_vocab_stemming_no_accent.txt', \n",
    "                                                                       binary=True)"
   ]
  },
  {
   "cell_type": "markdown",
   "metadata": {},
   "source": [
    "# Plot TSNE \n",
    "taken from https://www.kaggle.com/jeffd23/visualizing-word-vectors-with-t-sne"
   ]
  },
  {
   "cell_type": "code",
   "execution_count": null,
   "metadata": {},
   "outputs": [],
   "source": [
    "def tsne_plot(model):\n",
    "    \"Creates and TSNE model and plots it\"\n",
    "    labels = []\n",
    "    tokens = []\n",
    "\n",
    "    for word in model.vocab:\n",
    "        tokens.append(model[word])\n",
    "        labels.append(word)\n",
    "    \n",
    "    tsne_model = TSNE(perplexity=40, n_components=2, init='pca', n_iter=2500, random_state=23)\n",
    "    new_values = tsne_model.fit_transform(tokens)\n",
    "\n",
    "    x = []\n",
    "    y = []\n",
    "    for value in new_values:\n",
    "        x.append(value[0])\n",
    "        y.append(value[1])\n",
    "        \n",
    "    plt.figure(figsize=(16, 16)) \n",
    "    for i in range(len(x)):\n",
    "        plt.scatter(x[i],y[i])\n",
    "        plt.annotate(labels[i],\n",
    "                     xy=(x[i], y[i]),\n",
    "                     xytext=(5, 2),\n",
    "                     textcoords='offset points',\n",
    "                     ha='right',\n",
    "                     va='bottom')\n",
    "    plt.show()\n"
   ]
  },
  {
   "cell_type": "code",
   "execution_count": null,
   "metadata": {
    "scrolled": true
   },
   "outputs": [],
   "source": [
    "tsne_plot(scratch_model_to_plot)"
   ]
  },
  {
   "cell_type": "code",
   "execution_count": 29,
   "metadata": {},
   "outputs": [
    {
     "data": {
      "text/plain": [
       "[('dimanch', 0.4155712425708771),\n",
       " ('mard', 0.3164424002170563),\n",
       " ('lund', 0.310949444770813),\n",
       " ('demain', 0.3075084090232849),\n",
       " ('reprend', 0.2965714931488037),\n",
       " ('immediat', 0.2953723073005676),\n",
       " ('retabl', 0.276810884475708),\n",
       " ('journ', 0.26698005199432373),\n",
       " ('attendu', 0.26606640219688416),\n",
       " ('ensuit', 0.26546260714530945),\n",
       " ('repr', 0.2648485004901886),\n",
       " ('avoir', 0.26474517583847046),\n",
       " ('vendred', 0.2632172107696533),\n",
       " ('ouvertur', 0.254181444644928),\n",
       " ('couch', 0.2494654357433319),\n",
       " ('jaun', 0.24817900359630585),\n",
       " ('ordinal', 0.24674704670906067),\n",
       " ('natur', 0.23784078657627106),\n",
       " ('oubli', 0.23683807253837585),\n",
       " ('jour', 0.23027537763118744),\n",
       " ('seroquel', 0.22959519922733307),\n",
       " ('pu', 0.22801902890205383),\n",
       " ('existent', 0.22755958139896393),\n",
       " ('mois-c', 0.22677111625671387),\n",
       " ('plaquet', 0.22105248272418976),\n",
       " ('refair', 0.21967895328998566),\n",
       " ('prevu', 0.21929509937763214),\n",
       " ('lendemain', 0.21818400919437408),\n",
       " ('ovarien', 0.21743229031562805),\n",
       " ('cerazet', 0.21725891530513763),\n",
       " ('mai', 0.21655474603176117),\n",
       " ('ne', 0.21409791707992554),\n",
       " ('anti', 0.21339312195777893),\n",
       " ('holgyem', 0.2127755582332611),\n",
       " ('samed', 0.21044152975082397),\n",
       " ('penicillin', 0.20935311913490295),\n",
       " ('ftp', 0.20921413600444794),\n",
       " ('cepend', 0.20834729075431824),\n",
       " ('cyclan', 0.20677249133586884),\n",
       " ('ok', 0.20425668358802795),\n",
       " ('hi', 0.20405367016792297),\n",
       " ('heur', 0.2027636170387268),\n",
       " ('brun', 0.20210891962051392),\n",
       " ('ris', 0.2007465660572052),\n",
       " ('dc', 0.20008344948291779),\n",
       " ('ai', 0.19889546930789948),\n",
       " ('gynecologu', 0.1983960121870041),\n",
       " ('coeur', 0.19788973033428192),\n",
       " ('antitetan', 0.19755113124847412),\n",
       " ('enfle', 0.19600358605384827)]"
      ]
     },
     "execution_count": 29,
     "metadata": {},
     "output_type": "execute_result"
    }
   ],
   "source": [
    "scratch_model_to_plot.most_similar([\"jeud\"], topn=50)"
   ]
  },
  {
   "cell_type": "code",
   "execution_count": null,
   "metadata": {},
   "outputs": [],
   "source": []
  }
 ],
 "metadata": {
  "kernelspec": {
   "display_name": "Python 3",
   "language": "python",
   "name": "python3"
  },
  "language_info": {
   "codemirror_mode": {
    "name": "ipython",
    "version": 3
   },
   "file_extension": ".py",
   "mimetype": "text/x-python",
   "name": "python",
   "nbconvert_exporter": "python",
   "pygments_lexer": "ipython3",
   "version": "3.5.2"
  }
 },
 "nbformat": 4,
 "nbformat_minor": 2
}
