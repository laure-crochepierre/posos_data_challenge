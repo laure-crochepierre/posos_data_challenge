{
 "cells": [
  {
   "cell_type": "code",
   "execution_count": 1,
   "metadata": {},
   "outputs": [
    {
     "name": "stderr",
     "output_type": "stream",
     "text": [
      "/usr/local/lib/python3.5/dist-packages/h5py/__init__.py:36: FutureWarning: Conversion of the second argument of issubdtype from `float` to `np.floating` is deprecated. In future, it will be treated as `np.float64 == np.dtype(float).type`.\n",
      "  from ._conv import register_converters as _register_converters\n",
      "Using TensorFlow backend.\n"
     ]
    }
   ],
   "source": [
    "import os\n",
    "import pandas as pd \n",
    "from utils import train_test_validation_split\n",
    "\n",
    "from sklearn.feature_extraction.text import CountVectorizer\n",
    "\n",
    "from keras.preprocessing.text import Tokenizer\n",
    "from keras.preprocessing.sequence import pad_sequences\n",
    "from keras.preprocessing import sequence\n",
    "from keras.models import Sequential\n",
    "from keras.layers import Dense, Dropout, Activation, Embedding, Flatten, LSTM, GRU\n",
    "from keras.losses import sparse_categorical_crossentropy, categorical_hinge\n",
    "from keras import optimizers\n",
    "from keras.callbacks import TensorBoard, ModelCheckpoint, EarlyStopping"
   ]
  },
  {
   "cell_type": "markdown",
   "metadata": {},
   "source": [
    "## Import dataset"
   ]
  },
  {
   "cell_type": "code",
   "execution_count": 2,
   "metadata": {},
   "outputs": [],
   "source": [
    "# Import data\n",
    "X = pd.read_csv('DATA/clean_data/cleaning_n_stemming_input_train.csv', sep=\";\", index_col=0)\n",
    "y = pd.read_csv('DATA/output_train.csv', sep=\";\", index_col=0)\n",
    "\n",
    "features = X.columns\n",
    "targets = y['intention'].unique()"
   ]
  },
  {
   "cell_type": "code",
   "execution_count": 3,
   "metadata": {},
   "outputs": [
    {
     "data": {
      "text/plain": [
       "0    bonjour tromp forum question alor repos ici pr...\n",
       "1                  <MEDICAMENT> soulag contr <MALADIE>\n",
       "2    medecin <MEDICAMENT> prescr <MEDICAMENT> <ORDI...\n",
       "3       est exist form adapt enfant <AGE> <MEDICAMENT>\n",
       "4    medecin soign <MEDICAMENT> pharyngit <MEDICAME...\n",
       "Name: question, dtype: object"
      ]
     },
     "execution_count": 3,
     "metadata": {},
     "output_type": "execute_result"
    }
   ],
   "source": [
    "X['question'].head()"
   ]
  },
  {
   "cell_type": "markdown",
   "metadata": {},
   "source": [
    "## Prepare data for nn and find correct parameters"
   ]
  },
  {
   "cell_type": "code",
   "execution_count": 4,
   "metadata": {},
   "outputs": [],
   "source": [
    "# Estimation of the size of the vocabulary \n",
    "vectorizer = CountVectorizer()\n",
    "vectorizer.fit_transform(X['question'])\n",
    "MAX_NB_WORDS = len(vectorizer.vocabulary_)"
   ]
  },
  {
   "cell_type": "code",
   "execution_count": 5,
   "metadata": {},
   "outputs": [
    {
     "data": {
      "text/plain": [
       "382"
      ]
     },
     "execution_count": 5,
     "metadata": {},
     "output_type": "execute_result"
    }
   ],
   "source": [
    "# Find max size of the sequences \n",
    "MAX_SEQUENCE_LENGTH = 0 \n",
    "for sentence in X['question']:\n",
    "    if MAX_SEQUENCE_LENGTH<len(sentence.split()):\n",
    "        MAX_SEQUENCE_LENGTH = len(sentence.split())\n",
    "MAX_SEQUENCE_LENGTH"
   ]
  },
  {
   "cell_type": "code",
   "execution_count": 6,
   "metadata": {},
   "outputs": [
    {
     "name": "stdout",
     "output_type": "stream",
     "text": [
      "Found 4746 unique tokens.\n"
     ]
    }
   ],
   "source": [
    "# Preprocess text fo feed the net \n",
    "texts = X['question']\n",
    "tokenizer = Tokenizer(num_words=MAX_NB_WORDS/2)\n",
    "tokenizer.fit_on_texts(texts)\n",
    "sequences = tokenizer.texts_to_sequences(texts)\n",
    "\n",
    "word_index = tokenizer.word_index\n",
    "print('Found %s unique tokens.' % len(word_index))\n",
    "\n",
    "X_sequences = pad_sequences(sequences, maxlen=MAX_SEQUENCE_LENGTH)"
   ]
  },
  {
   "cell_type": "code",
   "execution_count": 7,
   "metadata": {},
   "outputs": [],
   "source": [
    "X_train, X_test, X_validation, y_train, y_test, y_validation = train_test_validation_split(X_sequences,y.values)"
   ]
  },
  {
   "cell_type": "code",
   "execution_count": 8,
   "metadata": {},
   "outputs": [
    {
     "data": {
      "text/plain": [
       "array([[  0,   0,   0, ...,   0, 545, 744],\n",
       "       [  0,   0,   0, ..., 108, 244,  15],\n",
       "       [  0,   0,   0, ..., 102, 156,  40],\n",
       "       ...,\n",
       "       [  0,   0,   0, ..., 232,  72, 294],\n",
       "       [  0,   0,   0, ..., 110,  26,   1],\n",
       "       [  0,   0,   0, ...,   2,  12,   4]], dtype=int32)"
      ]
     },
     "execution_count": 8,
     "metadata": {},
     "output_type": "execute_result"
    }
   ],
   "source": [
    "X_train"
   ]
  },
  {
   "cell_type": "markdown",
   "metadata": {},
   "source": [
    "## Prepare Tensorboard"
   ]
  },
  {
   "cell_type": "code",
   "execution_count": 9,
   "metadata": {},
   "outputs": [],
   "source": [
    "def generate_unique_logpath(logdir, raw_run_name):\n",
    "        i = 0\n",
    "        while(True):\n",
    "                run_name = raw_run_name + \"-\" + str(i)\n",
    "                log_path = os.path.join(logdir, run_name)\n",
    "                if not os.path.isdir(log_path):\n",
    "                        return log_path\n",
    "                i = i + 1"
   ]
  },
  {
   "cell_type": "markdown",
   "metadata": {},
   "source": [
    "## Create and train the model"
   ]
  },
  {
   "cell_type": "code",
   "execution_count": 10,
   "metadata": {},
   "outputs": [],
   "source": [
    "#Define parameters \n",
    "EMBEDDING_DIM = 200\n",
    "NB_CATEGORIES = len(targets)\n",
    "NB_LSTM = 50\n",
    "PERC_DROPOUT = 0.2 # to test between 0.2 and 0.5\n",
    "EPOCHS = 10000\n",
    "#Define RMSProp optimizer\n",
    "LEARNING_RATE = 0.006\n",
    "RATE_DECAY = 6e-4\n",
    "optz = optimizers.RMSprop(lr=LEARNING_RATE, decay=RATE_DECAY)\n",
    "\n",
    "\n",
    "sgd = optimizers.SGD(lr=LEARNING_RATE, decay=RATE_DECAY, momentum=0.9, nesterov=True)\n"
   ]
  },
  {
   "cell_type": "code",
   "execution_count": 11,
   "metadata": {},
   "outputs": [],
   "source": [
    "run_name = \"stemming_gru_\"+str(NB_LSTM)+\"_rmsprop_\"+str(LEARNING_RATE)\n",
    "run_name += \"_decay_embedding_\"+str(EMBEDDING_DIM)\n",
    "run_name +=\"_dropout_\"+str(PERC_DROPOUT)+\"_early_stop_shuffle\"\n",
    "\n",
    "logpath = generate_unique_logpath(\"./logs_tensorboard\", run_name)\n",
    "tbcb = TensorBoard(log_dir=logpath)"
   ]
  },
  {
   "cell_type": "code",
   "execution_count": 12,
   "metadata": {},
   "outputs": [
    {
     "name": "stdout",
     "output_type": "stream",
     "text": [
      "WARNING:tensorflow:From /usr/local/lib/python3.5/dist-packages/keras/backend/tensorflow_backend.py:1238: calling reduce_sum (from tensorflow.python.ops.math_ops) with keep_dims is deprecated and will be removed in a future version.\n",
      "Instructions for updating:\n",
      "keep_dims is deprecated, use keepdims instead\n",
      "WARNING:tensorflow:From /usr/local/lib/python3.5/dist-packages/keras/backend/tensorflow_backend.py:1340: calling reduce_mean (from tensorflow.python.ops.math_ops) with keep_dims is deprecated and will be removed in a future version.\n",
      "Instructions for updating:\n",
      "keep_dims is deprecated, use keepdims instead\n",
      "WARNING:tensorflow:From /usr/local/lib/python3.5/dist-packages/keras/backend/tensorflow_backend.py:1204: calling reduce_max (from tensorflow.python.ops.math_ops) with keep_dims is deprecated and will be removed in a future version.\n",
      "Instructions for updating:\n",
      "keep_dims is deprecated, use keepdims instead\n",
      "_________________________________________________________________\n",
      "Layer (type)                 Output Shape              Param #   \n",
      "=================================================================\n",
      "embedding_1 (Embedding)      (None, 382, 200)          949400    \n",
      "_________________________________________________________________\n",
      "gru_1 (GRU)                  (None, 50)                37650     \n",
      "_________________________________________________________________\n",
      "dropout_1 (Dropout)          (None, 50)                0         \n",
      "_________________________________________________________________\n",
      "dense_1 (Dense)              (None, 51)                2601      \n",
      "_________________________________________________________________\n",
      "activation_1 (Activation)    (None, 51)                0         \n",
      "=================================================================\n",
      "Total params: 989,651\n",
      "Trainable params: 989,651\n",
      "Non-trainable params: 0\n",
      "_________________________________________________________________\n",
      "None\n",
      "Train on 5137 samples, validate on 1285 samples\n",
      "Epoch 1/10000\n",
      "5137/5137 [==============================] - 96s 19ms/step - loss: 2.5634 - acc: 0.3699 - val_loss: 1.9663 - val_acc: 0.5004\n",
      "Epoch 2/10000\n",
      "5137/5137 [==============================] - 82s 16ms/step - loss: 1.5505 - acc: 0.5994 - val_loss: 1.6318 - val_acc: 0.5712\n",
      "Epoch 3/10000\n",
      "5137/5137 [==============================] - 81s 16ms/step - loss: 1.1531 - acc: 0.6901 - val_loss: 1.5146 - val_acc: 0.6179\n",
      "Epoch 4/10000\n",
      "5137/5137 [==============================] - 76s 15ms/step - loss: 0.8913 - acc: 0.7656 - val_loss: 1.5116 - val_acc: 0.6366\n",
      "Epoch 5/10000\n",
      "5137/5137 [==============================] - 82s 16ms/step - loss: 0.6938 - acc: 0.8201 - val_loss: 1.5459 - val_acc: 0.6350\n",
      "Epoch 6/10000\n",
      "5137/5137 [==============================] - 85s 16ms/step - loss: 0.5628 - acc: 0.8548 - val_loss: 1.5883 - val_acc: 0.6311\n",
      "Epoch 7/10000\n",
      "5137/5137 [==============================] - 80s 16ms/step - loss: 0.4494 - acc: 0.8857 - val_loss: 1.6573 - val_acc: 0.6257\n",
      "Epoch 8/10000\n",
      "5137/5137 [==============================] - 84s 16ms/step - loss: 0.3810 - acc: 0.9048 - val_loss: 1.7209 - val_acc: 0.6296\n",
      "Epoch 9/10000\n",
      "5137/5137 [==============================] - 87s 17ms/step - loss: 0.3238 - acc: 0.9136 - val_loss: 1.7400 - val_acc: 0.6171\n",
      "Epoch 10/10000\n",
      "5137/5137 [==============================] - 82s 16ms/step - loss: 0.2761 - acc: 0.9303 - val_loss: 1.8377 - val_acc: 0.6187\n",
      "Epoch 11/10000\n",
      "5137/5137 [==============================] - 77s 15ms/step - loss: 0.2348 - acc: 0.9441 - val_loss: 1.8414 - val_acc: 0.6202\n",
      "Epoch 12/10000\n",
      "1024/5137 [====>.........................] - ETA: 56s - loss: 0.2043 - acc: 0.9424"
     ]
    },
    {
     "ename": "KeyboardInterrupt",
     "evalue": "",
     "output_type": "error",
     "traceback": [
      "\u001b[0;31m---------------------------------------------------------------------------\u001b[0m",
      "\u001b[0;31mKeyboardInterrupt\u001b[0m                         Traceback (most recent call last)",
      "\u001b[0;32m<ipython-input-12-2550ce7168df>\u001b[0m in \u001b[0;36m<module>\u001b[0;34m()\u001b[0m\n\u001b[1;32m     20\u001b[0m             \u001b[0mbatch_size\u001b[0m\u001b[0;34m=\u001b[0m\u001b[0;36m64\u001b[0m\u001b[0;34m,\u001b[0m\u001b[0;34m\u001b[0m\u001b[0m\n\u001b[1;32m     21\u001b[0m             \u001b[0mverbose\u001b[0m\u001b[0;34m=\u001b[0m\u001b[0;36m1\u001b[0m\u001b[0;34m,\u001b[0m\u001b[0;34m\u001b[0m\u001b[0m\n\u001b[0;32m---> 22\u001b[0;31m             callbacks=[tbcb])\n\u001b[0m",
      "\u001b[0;32m/usr/local/lib/python3.5/dist-packages/keras/models.py\u001b[0m in \u001b[0;36mfit\u001b[0;34m(self, x, y, batch_size, epochs, verbose, callbacks, validation_split, validation_data, shuffle, class_weight, sample_weight, initial_epoch, **kwargs)\u001b[0m\n\u001b[1;32m    891\u001b[0m                               \u001b[0mclass_weight\u001b[0m\u001b[0;34m=\u001b[0m\u001b[0mclass_weight\u001b[0m\u001b[0;34m,\u001b[0m\u001b[0;34m\u001b[0m\u001b[0m\n\u001b[1;32m    892\u001b[0m                               \u001b[0msample_weight\u001b[0m\u001b[0;34m=\u001b[0m\u001b[0msample_weight\u001b[0m\u001b[0;34m,\u001b[0m\u001b[0;34m\u001b[0m\u001b[0m\n\u001b[0;32m--> 893\u001b[0;31m                               initial_epoch=initial_epoch)\n\u001b[0m\u001b[1;32m    894\u001b[0m \u001b[0;34m\u001b[0m\u001b[0m\n\u001b[1;32m    895\u001b[0m     def evaluate(self, x, y, batch_size=32, verbose=1,\n",
      "\u001b[0;32m/usr/local/lib/python3.5/dist-packages/keras/engine/training.py\u001b[0m in \u001b[0;36mfit\u001b[0;34m(self, x, y, batch_size, epochs, verbose, callbacks, validation_split, validation_data, shuffle, class_weight, sample_weight, initial_epoch, steps_per_epoch, validation_steps, **kwargs)\u001b[0m\n\u001b[1;32m   1629\u001b[0m                               \u001b[0minitial_epoch\u001b[0m\u001b[0;34m=\u001b[0m\u001b[0minitial_epoch\u001b[0m\u001b[0;34m,\u001b[0m\u001b[0;34m\u001b[0m\u001b[0m\n\u001b[1;32m   1630\u001b[0m                               \u001b[0msteps_per_epoch\u001b[0m\u001b[0;34m=\u001b[0m\u001b[0msteps_per_epoch\u001b[0m\u001b[0;34m,\u001b[0m\u001b[0;34m\u001b[0m\u001b[0m\n\u001b[0;32m-> 1631\u001b[0;31m                               validation_steps=validation_steps)\n\u001b[0m\u001b[1;32m   1632\u001b[0m \u001b[0;34m\u001b[0m\u001b[0m\n\u001b[1;32m   1633\u001b[0m     def evaluate(self, x=None, y=None,\n",
      "\u001b[0;32m/usr/local/lib/python3.5/dist-packages/keras/engine/training.py\u001b[0m in \u001b[0;36m_fit_loop\u001b[0;34m(self, f, ins, out_labels, batch_size, epochs, verbose, callbacks, val_f, val_ins, shuffle, callback_metrics, initial_epoch, steps_per_epoch, validation_steps)\u001b[0m\n\u001b[1;32m   1211\u001b[0m                     \u001b[0mbatch_logs\u001b[0m\u001b[0;34m[\u001b[0m\u001b[0;34m'size'\u001b[0m\u001b[0;34m]\u001b[0m \u001b[0;34m=\u001b[0m \u001b[0mlen\u001b[0m\u001b[0;34m(\u001b[0m\u001b[0mbatch_ids\u001b[0m\u001b[0;34m)\u001b[0m\u001b[0;34m\u001b[0m\u001b[0m\n\u001b[1;32m   1212\u001b[0m                     \u001b[0mcallbacks\u001b[0m\u001b[0;34m.\u001b[0m\u001b[0mon_batch_begin\u001b[0m\u001b[0;34m(\u001b[0m\u001b[0mbatch_index\u001b[0m\u001b[0;34m,\u001b[0m \u001b[0mbatch_logs\u001b[0m\u001b[0;34m)\u001b[0m\u001b[0;34m\u001b[0m\u001b[0m\n\u001b[0;32m-> 1213\u001b[0;31m                     \u001b[0mouts\u001b[0m \u001b[0;34m=\u001b[0m \u001b[0mf\u001b[0m\u001b[0;34m(\u001b[0m\u001b[0mins_batch\u001b[0m\u001b[0;34m)\u001b[0m\u001b[0;34m\u001b[0m\u001b[0m\n\u001b[0m\u001b[1;32m   1214\u001b[0m                     \u001b[0;32mif\u001b[0m \u001b[0;32mnot\u001b[0m \u001b[0misinstance\u001b[0m\u001b[0;34m(\u001b[0m\u001b[0mouts\u001b[0m\u001b[0;34m,\u001b[0m \u001b[0mlist\u001b[0m\u001b[0;34m)\u001b[0m\u001b[0;34m:\u001b[0m\u001b[0;34m\u001b[0m\u001b[0m\n\u001b[1;32m   1215\u001b[0m                         \u001b[0mouts\u001b[0m \u001b[0;34m=\u001b[0m \u001b[0;34m[\u001b[0m\u001b[0mouts\u001b[0m\u001b[0;34m]\u001b[0m\u001b[0;34m\u001b[0m\u001b[0m\n",
      "\u001b[0;32m/usr/local/lib/python3.5/dist-packages/keras/backend/tensorflow_backend.py\u001b[0m in \u001b[0;36m__call__\u001b[0;34m(self, inputs)\u001b[0m\n\u001b[1;32m   2330\u001b[0m         updated = session.run(self.outputs + [self.updates_op],\n\u001b[1;32m   2331\u001b[0m                               \u001b[0mfeed_dict\u001b[0m\u001b[0;34m=\u001b[0m\u001b[0mfeed_dict\u001b[0m\u001b[0;34m,\u001b[0m\u001b[0;34m\u001b[0m\u001b[0m\n\u001b[0;32m-> 2332\u001b[0;31m                               **self.session_kwargs)\n\u001b[0m\u001b[1;32m   2333\u001b[0m         \u001b[0;32mreturn\u001b[0m \u001b[0mupdated\u001b[0m\u001b[0;34m[\u001b[0m\u001b[0;34m:\u001b[0m\u001b[0mlen\u001b[0m\u001b[0;34m(\u001b[0m\u001b[0mself\u001b[0m\u001b[0;34m.\u001b[0m\u001b[0moutputs\u001b[0m\u001b[0;34m)\u001b[0m\u001b[0;34m]\u001b[0m\u001b[0;34m\u001b[0m\u001b[0m\n\u001b[1;32m   2334\u001b[0m \u001b[0;34m\u001b[0m\u001b[0m\n",
      "\u001b[0;32m/usr/local/lib/python3.5/dist-packages/tensorflow/python/client/session.py\u001b[0m in \u001b[0;36mrun\u001b[0;34m(self, fetches, feed_dict, options, run_metadata)\u001b[0m\n\u001b[1;32m    893\u001b[0m     \u001b[0;32mtry\u001b[0m\u001b[0;34m:\u001b[0m\u001b[0;34m\u001b[0m\u001b[0m\n\u001b[1;32m    894\u001b[0m       result = self._run(None, fetches, feed_dict, options_ptr,\n\u001b[0;32m--> 895\u001b[0;31m                          run_metadata_ptr)\n\u001b[0m\u001b[1;32m    896\u001b[0m       \u001b[0;32mif\u001b[0m \u001b[0mrun_metadata\u001b[0m\u001b[0;34m:\u001b[0m\u001b[0;34m\u001b[0m\u001b[0m\n\u001b[1;32m    897\u001b[0m         \u001b[0mproto_data\u001b[0m \u001b[0;34m=\u001b[0m \u001b[0mtf_session\u001b[0m\u001b[0;34m.\u001b[0m\u001b[0mTF_GetBuffer\u001b[0m\u001b[0;34m(\u001b[0m\u001b[0mrun_metadata_ptr\u001b[0m\u001b[0;34m)\u001b[0m\u001b[0;34m\u001b[0m\u001b[0m\n",
      "\u001b[0;32m/usr/local/lib/python3.5/dist-packages/tensorflow/python/client/session.py\u001b[0m in \u001b[0;36m_run\u001b[0;34m(self, handle, fetches, feed_dict, options, run_metadata)\u001b[0m\n\u001b[1;32m   1126\u001b[0m     \u001b[0;32mif\u001b[0m \u001b[0mfinal_fetches\u001b[0m \u001b[0;32mor\u001b[0m \u001b[0mfinal_targets\u001b[0m \u001b[0;32mor\u001b[0m \u001b[0;34m(\u001b[0m\u001b[0mhandle\u001b[0m \u001b[0;32mand\u001b[0m \u001b[0mfeed_dict_tensor\u001b[0m\u001b[0;34m)\u001b[0m\u001b[0;34m:\u001b[0m\u001b[0;34m\u001b[0m\u001b[0m\n\u001b[1;32m   1127\u001b[0m       results = self._do_run(handle, final_targets, final_fetches,\n\u001b[0;32m-> 1128\u001b[0;31m                              feed_dict_tensor, options, run_metadata)\n\u001b[0m\u001b[1;32m   1129\u001b[0m     \u001b[0;32melse\u001b[0m\u001b[0;34m:\u001b[0m\u001b[0;34m\u001b[0m\u001b[0m\n\u001b[1;32m   1130\u001b[0m       \u001b[0mresults\u001b[0m \u001b[0;34m=\u001b[0m \u001b[0;34m[\u001b[0m\u001b[0;34m]\u001b[0m\u001b[0;34m\u001b[0m\u001b[0m\n",
      "\u001b[0;32m/usr/local/lib/python3.5/dist-packages/tensorflow/python/client/session.py\u001b[0m in \u001b[0;36m_do_run\u001b[0;34m(self, handle, target_list, fetch_list, feed_dict, options, run_metadata)\u001b[0m\n\u001b[1;32m   1342\u001b[0m     \u001b[0;32mif\u001b[0m \u001b[0mhandle\u001b[0m \u001b[0;32mis\u001b[0m \u001b[0;32mNone\u001b[0m\u001b[0;34m:\u001b[0m\u001b[0;34m\u001b[0m\u001b[0m\n\u001b[1;32m   1343\u001b[0m       return self._do_call(_run_fn, self._session, feeds, fetches, targets,\n\u001b[0;32m-> 1344\u001b[0;31m                            options, run_metadata)\n\u001b[0m\u001b[1;32m   1345\u001b[0m     \u001b[0;32melse\u001b[0m\u001b[0;34m:\u001b[0m\u001b[0;34m\u001b[0m\u001b[0m\n\u001b[1;32m   1346\u001b[0m       \u001b[0;32mreturn\u001b[0m \u001b[0mself\u001b[0m\u001b[0;34m.\u001b[0m\u001b[0m_do_call\u001b[0m\u001b[0;34m(\u001b[0m\u001b[0m_prun_fn\u001b[0m\u001b[0;34m,\u001b[0m \u001b[0mself\u001b[0m\u001b[0;34m.\u001b[0m\u001b[0m_session\u001b[0m\u001b[0;34m,\u001b[0m \u001b[0mhandle\u001b[0m\u001b[0;34m,\u001b[0m \u001b[0mfeeds\u001b[0m\u001b[0;34m,\u001b[0m \u001b[0mfetches\u001b[0m\u001b[0;34m)\u001b[0m\u001b[0;34m\u001b[0m\u001b[0m\n",
      "\u001b[0;32m/usr/local/lib/python3.5/dist-packages/tensorflow/python/client/session.py\u001b[0m in \u001b[0;36m_do_call\u001b[0;34m(self, fn, *args)\u001b[0m\n\u001b[1;32m   1348\u001b[0m   \u001b[0;32mdef\u001b[0m \u001b[0m_do_call\u001b[0m\u001b[0;34m(\u001b[0m\u001b[0mself\u001b[0m\u001b[0;34m,\u001b[0m \u001b[0mfn\u001b[0m\u001b[0;34m,\u001b[0m \u001b[0;34m*\u001b[0m\u001b[0margs\u001b[0m\u001b[0;34m)\u001b[0m\u001b[0;34m:\u001b[0m\u001b[0;34m\u001b[0m\u001b[0m\n\u001b[1;32m   1349\u001b[0m     \u001b[0;32mtry\u001b[0m\u001b[0;34m:\u001b[0m\u001b[0;34m\u001b[0m\u001b[0m\n\u001b[0;32m-> 1350\u001b[0;31m       \u001b[0;32mreturn\u001b[0m \u001b[0mfn\u001b[0m\u001b[0;34m(\u001b[0m\u001b[0;34m*\u001b[0m\u001b[0margs\u001b[0m\u001b[0;34m)\u001b[0m\u001b[0;34m\u001b[0m\u001b[0m\n\u001b[0m\u001b[1;32m   1351\u001b[0m     \u001b[0;32mexcept\u001b[0m \u001b[0merrors\u001b[0m\u001b[0;34m.\u001b[0m\u001b[0mOpError\u001b[0m \u001b[0;32mas\u001b[0m \u001b[0me\u001b[0m\u001b[0;34m:\u001b[0m\u001b[0;34m\u001b[0m\u001b[0m\n\u001b[1;32m   1352\u001b[0m       \u001b[0mmessage\u001b[0m \u001b[0;34m=\u001b[0m \u001b[0mcompat\u001b[0m\u001b[0;34m.\u001b[0m\u001b[0mas_text\u001b[0m\u001b[0;34m(\u001b[0m\u001b[0me\u001b[0m\u001b[0;34m.\u001b[0m\u001b[0mmessage\u001b[0m\u001b[0;34m)\u001b[0m\u001b[0;34m\u001b[0m\u001b[0m\n",
      "\u001b[0;32m/usr/local/lib/python3.5/dist-packages/tensorflow/python/client/session.py\u001b[0m in \u001b[0;36m_run_fn\u001b[0;34m(session, feed_dict, fetch_list, target_list, options, run_metadata)\u001b[0m\n\u001b[1;32m   1327\u001b[0m           return tf_session.TF_Run(session, options,\n\u001b[1;32m   1328\u001b[0m                                    \u001b[0mfeed_dict\u001b[0m\u001b[0;34m,\u001b[0m \u001b[0mfetch_list\u001b[0m\u001b[0;34m,\u001b[0m \u001b[0mtarget_list\u001b[0m\u001b[0;34m,\u001b[0m\u001b[0;34m\u001b[0m\u001b[0m\n\u001b[0;32m-> 1329\u001b[0;31m                                    status, run_metadata)\n\u001b[0m\u001b[1;32m   1330\u001b[0m \u001b[0;34m\u001b[0m\u001b[0m\n\u001b[1;32m   1331\u001b[0m     \u001b[0;32mdef\u001b[0m \u001b[0m_prun_fn\u001b[0m\u001b[0;34m(\u001b[0m\u001b[0msession\u001b[0m\u001b[0;34m,\u001b[0m \u001b[0mhandle\u001b[0m\u001b[0;34m,\u001b[0m \u001b[0mfeed_dict\u001b[0m\u001b[0;34m,\u001b[0m \u001b[0mfetch_list\u001b[0m\u001b[0;34m)\u001b[0m\u001b[0;34m:\u001b[0m\u001b[0;34m\u001b[0m\u001b[0m\n",
      "\u001b[0;31mKeyboardInterrupt\u001b[0m: "
     ]
    }
   ],
   "source": [
    "#Model \n",
    "model= Sequential()\n",
    "model.add(Embedding(len(word_index)+1,\n",
    "                            EMBEDDING_DIM,\n",
    "                            input_length=MAX_SEQUENCE_LENGTH,\n",
    "                            trainable=True))\n",
    "model.add(GRU(NB_LSTM))\n",
    "model.add(Dropout(PERC_DROPOUT))\n",
    "model.add((Dense(NB_CATEGORIES)))\n",
    "model.add(Activation('softmax')) # reminder sigmoid if is for binary classification\n",
    "model.compile(loss=sparse_categorical_crossentropy, optimizer=optz, metrics=['accuracy'])\n",
    "print(model.summary())\n",
    "early_stop = EarlyStopping(monitor='val_loss', patience=2, verbose=1,  mode='auto')\n",
    "checkpoint_filepath = os.path.join(logpath,  \"model.h1\")\n",
    "checkpoint_cb = ModelCheckpoint(checkpoint_filepath, save_best_only=True)\n",
    "model.fit(X_train, y_train,\n",
    "            validation_data=(X_test, y_test), \n",
    "            epochs=EPOCHS,\n",
    "            shuffle=True,\n",
    "            batch_size=64,\n",
    "            verbose=1,\n",
    "            callbacks=[tbcb])\n"
   ]
  },
  {
   "cell_type": "code",
   "execution_count": 16,
   "metadata": {},
   "outputs": [
    {
     "name": "stdout",
     "output_type": "stream",
     "text": [
      "_________________________________________________________________\n",
      "Layer (type)                 Output Shape              Param #   \n",
      "=================================================================\n",
      "embedding_5 (Embedding)      (None, 382, 200)          949400    \n",
      "_________________________________________________________________\n",
      "gru_5 (GRU)                  (None, 10)                6330      \n",
      "_________________________________________________________________\n",
      "dropout_5 (Dropout)          (None, 10)                0         \n",
      "_________________________________________________________________\n",
      "dense_5 (Dense)              (None, 51)                561       \n",
      "_________________________________________________________________\n",
      "activation_5 (Activation)    (None, 51)                0         \n",
      "=================================================================\n",
      "Total params: 956,291\n",
      "Trainable params: 956,291\n",
      "Non-trainable params: 0\n",
      "_________________________________________________________________\n",
      "None\n",
      "Train on 5137 samples, validate on 1285 samples\n",
      "Epoch 1/100\n",
      "5137/5137 [==============================] - 27s 5ms/step - loss: 3.2322 - acc: 0.2176 - val_loss: 2.8875 - val_acc: 0.2802\n",
      "Epoch 2/100\n",
      "5137/5137 [==============================] - 30s 6ms/step - loss: 2.6864 - acc: 0.3109 - val_loss: 2.5244 - val_acc: 0.3619\n",
      "Epoch 3/100\n",
      "5137/5137 [==============================] - 28s 5ms/step - loss: 2.3178 - acc: 0.4236 - val_loss: 2.2654 - val_acc: 0.4545\n",
      "Epoch 4/100\n",
      "5137/5137 [==============================] - 28s 5ms/step - loss: 2.0514 - acc: 0.5040 - val_loss: 2.1057 - val_acc: 0.4817\n",
      "Epoch 5/100\n",
      "5137/5137 [==============================] - 27s 5ms/step - loss: 1.8448 - acc: 0.5532 - val_loss: 1.9835 - val_acc: 0.5144\n",
      "Epoch 6/100\n",
      "5137/5137 [==============================] - 28s 6ms/step - loss: 1.6882 - acc: 0.5846 - val_loss: 1.9097 - val_acc: 0.5346\n",
      "Epoch 7/100\n",
      "5137/5137 [==============================] - 30s 6ms/step - loss: 1.5754 - acc: 0.6099 - val_loss: 1.8662 - val_acc: 0.5401\n",
      "Epoch 8/100\n",
      "5137/5137 [==============================] - 29s 6ms/step - loss: 1.4704 - acc: 0.6350 - val_loss: 1.8285 - val_acc: 0.5463\n",
      "Epoch 9/100\n",
      "5137/5137 [==============================] - 27s 5ms/step - loss: 1.3819 - acc: 0.6634 - val_loss: 1.8254 - val_acc: 0.5377\n",
      "Epoch 10/100\n",
      "5137/5137 [==============================] - 27s 5ms/step - loss: 1.2945 - acc: 0.6806 - val_loss: 1.8295 - val_acc: 0.5447\n",
      "Epoch 11/100\n",
      "5137/5137 [==============================] - 30s 6ms/step - loss: 1.2324 - acc: 0.7008 - val_loss: 1.8223 - val_acc: 0.5479\n",
      "Epoch 12/100\n",
      "5137/5137 [==============================] - 29s 6ms/step - loss: 1.1691 - acc: 0.7053 - val_loss: 1.7993 - val_acc: 0.5564\n",
      "Epoch 13/100\n",
      "5137/5137 [==============================] - 27s 5ms/step - loss: 1.1211 - acc: 0.7226 - val_loss: 1.8284 - val_acc: 0.5580\n",
      "Epoch 14/100\n",
      "5137/5137 [==============================] - 27s 5ms/step - loss: 1.0759 - acc: 0.7327 - val_loss: 1.8438 - val_acc: 0.5642\n",
      "Epoch 15/100\n",
      "5137/5137 [==============================] - 37s 7ms/step - loss: 1.0359 - acc: 0.7442 - val_loss: 1.8507 - val_acc: 0.5549\n",
      "Epoch 16/100\n",
      "5137/5137 [==============================] - 27s 5ms/step - loss: 0.9975 - acc: 0.7551 - val_loss: 1.8622 - val_acc: 0.5580\n",
      "Epoch 17/100\n",
      "5137/5137 [==============================] - 27s 5ms/step - loss: 0.9612 - acc: 0.7537 - val_loss: 1.8754 - val_acc: 0.5619\n",
      "Epoch 18/100\n",
      "5137/5137 [==============================] - 27s 5ms/step - loss: 0.9239 - acc: 0.7750 - val_loss: 1.8929 - val_acc: 0.5556\n",
      "Epoch 19/100\n",
      "5137/5137 [==============================] - 30s 6ms/step - loss: 0.8904 - acc: 0.7783 - val_loss: 1.8996 - val_acc: 0.5572\n",
      "Epoch 20/100\n",
      "5137/5137 [==============================] - 27s 5ms/step - loss: 0.8692 - acc: 0.7919 - val_loss: 1.9302 - val_acc: 0.5416\n",
      "Epoch 21/100\n",
      "5137/5137 [==============================] - 27s 5ms/step - loss: 0.8472 - acc: 0.7886 - val_loss: 1.9253 - val_acc: 0.5580\n",
      "Epoch 22/100\n",
      "5137/5137 [==============================] - 27s 5ms/step - loss: 0.8261 - acc: 0.8030 - val_loss: 1.9303 - val_acc: 0.5634\n",
      "Epoch 23/100\n",
      "5137/5137 [==============================] - 29s 6ms/step - loss: 0.8164 - acc: 0.7952 - val_loss: 1.9425 - val_acc: 0.5556\n",
      "Epoch 24/100\n",
      "5137/5137 [==============================] - 29s 6ms/step - loss: 0.7794 - acc: 0.8049 - val_loss: 1.9666 - val_acc: 0.5619\n",
      "Epoch 25/100\n",
      "5137/5137 [==============================] - 27s 5ms/step - loss: 0.7643 - acc: 0.8137 - val_loss: 1.9995 - val_acc: 0.5525\n",
      "Epoch 26/100\n",
      "5137/5137 [==============================] - 27s 5ms/step - loss: 0.7570 - acc: 0.8184 - val_loss: 2.0415 - val_acc: 0.5510\n",
      "Epoch 27/100\n",
      "5137/5137 [==============================] - 27s 5ms/step - loss: 0.7361 - acc: 0.8158 - val_loss: 2.0171 - val_acc: 0.5533\n",
      "Epoch 28/100\n",
      "5137/5137 [==============================] - 30s 6ms/step - loss: 0.7334 - acc: 0.8207 - val_loss: 2.0204 - val_acc: 0.5549\n",
      "Epoch 29/100\n",
      "5137/5137 [==============================] - 27s 5ms/step - loss: 0.7030 - acc: 0.8285 - val_loss: 2.0358 - val_acc: 0.5572\n",
      "Epoch 30/100\n",
      "5137/5137 [==============================] - 27s 5ms/step - loss: 0.7173 - acc: 0.8197 - val_loss: 2.0562 - val_acc: 0.5502\n",
      "Epoch 31/100\n",
      "5137/5137 [==============================] - 27s 5ms/step - loss: 0.6754 - acc: 0.8357 - val_loss: 2.0696 - val_acc: 0.5463\n",
      "Epoch 32/100\n",
      "5137/5137 [==============================] - 30s 6ms/step - loss: 0.6688 - acc: 0.8378 - val_loss: 2.0851 - val_acc: 0.5494\n",
      "Epoch 33/100\n",
      "5137/5137 [==============================] - 27s 5ms/step - loss: 0.6597 - acc: 0.8347 - val_loss: 2.1032 - val_acc: 0.5541\n",
      "Epoch 34/100\n",
      "5137/5137 [==============================] - 27s 5ms/step - loss: 0.6614 - acc: 0.8355 - val_loss: 2.1148 - val_acc: 0.5494\n",
      "Epoch 35/100\n",
      "5137/5137 [==============================] - 27s 5ms/step - loss: 0.6478 - acc: 0.8373 - val_loss: 2.1115 - val_acc: 0.5471\n",
      "Epoch 36/100\n",
      "5137/5137 [==============================] - 27s 5ms/step - loss: 0.6274 - acc: 0.8468 - val_loss: 2.1318 - val_acc: 0.5455\n",
      "Epoch 37/100\n",
      "5137/5137 [==============================] - 30s 6ms/step - loss: 0.6248 - acc: 0.8476 - val_loss: 2.1348 - val_acc: 0.5502\n",
      "Epoch 38/100\n",
      "5137/5137 [==============================] - 27s 5ms/step - loss: 0.6168 - acc: 0.8482 - val_loss: 2.1493 - val_acc: 0.5455\n",
      "Epoch 39/100\n",
      "5137/5137 [==============================] - 27s 5ms/step - loss: 0.6067 - acc: 0.8509 - val_loss: 2.1509 - val_acc: 0.5479\n",
      "Epoch 40/100\n",
      "5137/5137 [==============================] - 27s 5ms/step - loss: 0.5933 - acc: 0.8561 - val_loss: 2.1558 - val_acc: 0.5510\n",
      "Epoch 41/100\n",
      "5137/5137 [==============================] - 30s 6ms/step - loss: 0.5889 - acc: 0.8536 - val_loss: 2.1723 - val_acc: 0.5502\n",
      "Epoch 42/100\n",
      "5137/5137 [==============================] - 27s 5ms/step - loss: 0.5900 - acc: 0.8495 - val_loss: 2.1890 - val_acc: 0.5409\n",
      "Epoch 43/100\n",
      "5137/5137 [==============================] - 27s 5ms/step - loss: 0.5906 - acc: 0.8528 - val_loss: 2.1817 - val_acc: 0.5494\n",
      "Epoch 44/100\n",
      "5137/5137 [==============================] - 27s 5ms/step - loss: 0.5757 - acc: 0.8593 - val_loss: 2.2159 - val_acc: 0.5424\n",
      "Epoch 45/100\n",
      "5137/5137 [==============================] - 30s 6ms/step - loss: 0.5788 - acc: 0.8587 - val_loss: 2.2190 - val_acc: 0.5432\n",
      "Epoch 46/100\n",
      "5137/5137 [==============================] - 27s 5ms/step - loss: 0.5675 - acc: 0.8606 - val_loss: 2.2273 - val_acc: 0.5447\n",
      "Epoch 47/100\n",
      "5137/5137 [==============================] - 27s 5ms/step - loss: 0.5541 - acc: 0.8641 - val_loss: 2.2289 - val_acc: 0.5440\n",
      "Epoch 48/100\n",
      "5137/5137 [==============================] - 27s 5ms/step - loss: 0.5611 - acc: 0.8668 - val_loss: 2.2409 - val_acc: 0.5440\n",
      "Epoch 49/100\n",
      "5137/5137 [==============================] - 27s 5ms/step - loss: 0.5420 - acc: 0.8641 - val_loss: 2.2360 - val_acc: 0.5471\n",
      "Epoch 50/100\n",
      "5137/5137 [==============================] - 30s 6ms/step - loss: 0.5371 - acc: 0.8647 - val_loss: 2.2614 - val_acc: 0.5447\n",
      "Epoch 51/100\n",
      "5137/5137 [==============================] - 27s 5ms/step - loss: 0.5422 - acc: 0.8670 - val_loss: 2.2542 - val_acc: 0.5440\n",
      "Epoch 52/100\n",
      "5137/5137 [==============================] - 27s 5ms/step - loss: 0.5324 - acc: 0.8709 - val_loss: 2.2781 - val_acc: 0.5424\n",
      "Epoch 53/100\n"
     ]
    },
    {
     "name": "stdout",
     "output_type": "stream",
     "text": [
      "5137/5137 [==============================] - 26s 5ms/step - loss: 0.5261 - acc: 0.8731 - val_loss: 2.2880 - val_acc: 0.5447\n",
      "Epoch 54/100\n",
      "5137/5137 [==============================] - 30s 6ms/step - loss: 0.5300 - acc: 0.8676 - val_loss: 2.2919 - val_acc: 0.5370\n",
      "Epoch 55/100\n",
      "5137/5137 [==============================] - 27s 5ms/step - loss: 0.5114 - acc: 0.8746 - val_loss: 2.2788 - val_acc: 0.5479\n",
      "Epoch 56/100\n",
      "5137/5137 [==============================] - 27s 5ms/step - loss: 0.5133 - acc: 0.8721 - val_loss: 2.2911 - val_acc: 0.5471\n",
      "Epoch 57/100\n",
      "5137/5137 [==============================] - 27s 5ms/step - loss: 0.5094 - acc: 0.8754 - val_loss: 2.2838 - val_acc: 0.5479\n",
      "Epoch 58/100\n",
      "5137/5137 [==============================] - 28s 5ms/step - loss: 0.5104 - acc: 0.8744 - val_loss: 2.2957 - val_acc: 0.5440\n",
      "Epoch 59/100\n",
      "5137/5137 [==============================] - 28s 6ms/step - loss: 0.4909 - acc: 0.8766 - val_loss: 2.3195 - val_acc: 0.5486\n",
      "Epoch 60/100\n",
      "5137/5137 [==============================] - 27s 5ms/step - loss: 0.5035 - acc: 0.8783 - val_loss: 2.3135 - val_acc: 0.5510\n",
      "Epoch 61/100\n",
      "5137/5137 [==============================] - 27s 5ms/step - loss: 0.4892 - acc: 0.8861 - val_loss: 2.3295 - val_acc: 0.5510\n",
      "Epoch 62/100\n",
      "5137/5137 [==============================] - 27s 5ms/step - loss: 0.4916 - acc: 0.8818 - val_loss: 2.3310 - val_acc: 0.5533\n",
      "Epoch 63/100\n",
      "5137/5137 [==============================] - 29s 6ms/step - loss: 0.4827 - acc: 0.8824 - val_loss: 2.3394 - val_acc: 0.5455\n",
      "Epoch 64/100\n",
      "5137/5137 [==============================] - 27s 5ms/step - loss: 0.4826 - acc: 0.8774 - val_loss: 2.3437 - val_acc: 0.5518\n",
      "Epoch 65/100\n",
      "5137/5137 [==============================] - 27s 5ms/step - loss: 0.4927 - acc: 0.8764 - val_loss: 2.3426 - val_acc: 0.5455\n",
      "Epoch 66/100\n",
      "5137/5137 [==============================] - 27s 5ms/step - loss: 0.4837 - acc: 0.8803 - val_loss: 2.3596 - val_acc: 0.5486\n",
      "Epoch 67/100\n",
      "5137/5137 [==============================] - 30s 6ms/step - loss: 0.4705 - acc: 0.8848 - val_loss: 2.3648 - val_acc: 0.5502\n",
      "Epoch 68/100\n",
      "5137/5137 [==============================] - 27s 5ms/step - loss: 0.4858 - acc: 0.8803 - val_loss: 2.3718 - val_acc: 0.5486\n",
      "Epoch 69/100\n",
      "5137/5137 [==============================] - 27s 5ms/step - loss: 0.4758 - acc: 0.8781 - val_loss: 2.3796 - val_acc: 0.5463\n",
      "Epoch 70/100\n",
      "5137/5137 [==============================] - 27s 5ms/step - loss: 0.4638 - acc: 0.8805 - val_loss: 2.3665 - val_acc: 0.5518\n",
      "Epoch 71/100\n",
      "5137/5137 [==============================] - 27s 5ms/step - loss: 0.4645 - acc: 0.8850 - val_loss: 2.3786 - val_acc: 0.5455\n",
      "Epoch 72/100\n",
      "5137/5137 [==============================] - 30s 6ms/step - loss: 0.4687 - acc: 0.8822 - val_loss: 2.3978 - val_acc: 0.5510\n",
      "Epoch 73/100\n",
      "5137/5137 [==============================] - 27s 5ms/step - loss: 0.4606 - acc: 0.8887 - val_loss: 2.3894 - val_acc: 0.5463\n",
      "Epoch 74/100\n",
      "5137/5137 [==============================] - 27s 5ms/step - loss: 0.4557 - acc: 0.8840 - val_loss: 2.4103 - val_acc: 0.5432\n",
      "Epoch 75/100\n",
      "5137/5137 [==============================] - 27s 5ms/step - loss: 0.4508 - acc: 0.8844 - val_loss: 2.4162 - val_acc: 0.5432\n",
      "Epoch 76/100\n",
      "5137/5137 [==============================] - 30s 6ms/step - loss: 0.4574 - acc: 0.8859 - val_loss: 2.4236 - val_acc: 0.5486\n",
      "Epoch 77/100\n",
      "5137/5137 [==============================] - 27s 5ms/step - loss: 0.4563 - acc: 0.8828 - val_loss: 2.4312 - val_acc: 0.5479\n",
      "Epoch 78/100\n",
      "5137/5137 [==============================] - 27s 5ms/step - loss: 0.4469 - acc: 0.8887 - val_loss: 2.4290 - val_acc: 0.5416\n",
      "Epoch 79/100\n",
      "5137/5137 [==============================] - 27s 5ms/step - loss: 0.4506 - acc: 0.8879 - val_loss: 2.4364 - val_acc: 0.5416\n",
      "Epoch 80/100\n",
      "5137/5137 [==============================] - 28s 5ms/step - loss: 0.4402 - acc: 0.8885 - val_loss: 2.4315 - val_acc: 0.5440\n",
      "Epoch 81/100\n",
      "5137/5137 [==============================] - 28s 6ms/step - loss: 0.4492 - acc: 0.8873 - val_loss: 2.4458 - val_acc: 0.5424\n",
      "Epoch 82/100\n",
      "5137/5137 [==============================] - 27s 5ms/step - loss: 0.4366 - acc: 0.8896 - val_loss: 2.4395 - val_acc: 0.5416\n",
      "Epoch 83/100\n",
      "5137/5137 [==============================] - 27s 5ms/step - loss: 0.4403 - acc: 0.8898 - val_loss: 2.4544 - val_acc: 0.5455\n",
      "Epoch 84/100\n",
      "5137/5137 [==============================] - 27s 5ms/step - loss: 0.4359 - acc: 0.8908 - val_loss: 2.4398 - val_acc: 0.5455\n",
      "Epoch 85/100\n",
      "5137/5137 [==============================] - 30s 6ms/step - loss: 0.4286 - acc: 0.8937 - val_loss: 2.4667 - val_acc: 0.5463\n",
      "Epoch 86/100\n",
      "5137/5137 [==============================] - 27s 5ms/step - loss: 0.4174 - acc: 0.8943 - val_loss: 2.4696 - val_acc: 0.5479\n",
      "Epoch 87/100\n",
      "5137/5137 [==============================] - 27s 5ms/step - loss: 0.4289 - acc: 0.8918 - val_loss: 2.4891 - val_acc: 0.5409\n",
      "Epoch 88/100\n",
      "5137/5137 [==============================] - 27s 5ms/step - loss: 0.4389 - acc: 0.8912 - val_loss: 2.4842 - val_acc: 0.5432\n",
      "Epoch 89/100\n",
      "5137/5137 [==============================] - 29s 6ms/step - loss: 0.4181 - acc: 0.9009 - val_loss: 2.4920 - val_acc: 0.5440\n",
      "Epoch 90/100\n",
      "5137/5137 [==============================] - 27s 5ms/step - loss: 0.4207 - acc: 0.8923 - val_loss: 2.4819 - val_acc: 0.5432\n",
      "Epoch 91/100\n",
      "5137/5137 [==============================] - 27s 5ms/step - loss: 0.4254 - acc: 0.8912 - val_loss: 2.5073 - val_acc: 0.5354\n",
      "Epoch 92/100\n",
      "5137/5137 [==============================] - 27s 5ms/step - loss: 0.4218 - acc: 0.8959 - val_loss: 2.4820 - val_acc: 0.5300\n",
      "Epoch 93/100\n",
      "5137/5137 [==============================] - 27s 5ms/step - loss: 0.4251 - acc: 0.8861 - val_loss: 2.4844 - val_acc: 0.5455\n",
      "Epoch 94/100\n",
      "5137/5137 [==============================] - 30s 6ms/step - loss: 0.4193 - acc: 0.8918 - val_loss: 2.4918 - val_acc: 0.5416\n",
      "Epoch 95/100\n",
      "5137/5137 [==============================] - 27s 5ms/step - loss: 0.4185 - acc: 0.8933 - val_loss: 2.4901 - val_acc: 0.5416\n",
      "Epoch 96/100\n",
      "5137/5137 [==============================] - 27s 5ms/step - loss: 0.4189 - acc: 0.8941 - val_loss: 2.5065 - val_acc: 0.5409\n",
      "Epoch 97/100\n",
      "5137/5137 [==============================] - 27s 5ms/step - loss: 0.4119 - acc: 0.8927 - val_loss: 2.5182 - val_acc: 0.5354\n",
      "Epoch 98/100\n",
      "5137/5137 [==============================] - 30s 6ms/step - loss: 0.4138 - acc: 0.8955 - val_loss: 2.5089 - val_acc: 0.5393\n",
      "Epoch 99/100\n",
      "5137/5137 [==============================] - 27s 5ms/step - loss: 0.4095 - acc: 0.8964 - val_loss: 2.5283 - val_acc: 0.5362\n",
      "Epoch 100/100\n",
      "5137/5137 [==============================] - 27s 5ms/step - loss: 0.4067 - acc: 0.8951 - val_loss: 2.5290 - val_acc: 0.5370\n"
     ]
    },
    {
     "data": {
      "text/plain": [
       "<keras.callbacks.History at 0x7fd01db37c50>"
      ]
     },
     "execution_count": 16,
     "metadata": {},
     "output_type": "execute_result"
    }
   ],
   "source": [
    "\n",
    "# TEST 2 \n",
    "PERC_DROPOUT = 0.2 # to test between 0.2 and 0.5\n",
    "EPOCHS = 100\n",
    "EMBEDDING_DIM = 200\n",
    "NB_CATEGORIES = len(targets)\n",
    "NB_LSTM = 10\n",
    "run_name = \"stemming_gru_\"+str(NB_LSTM)+\"_rmsprop_\"+str(LEARNING_RATE)\n",
    "run_name += \"_decay_embedding_\"+str(EMBEDDING_DIM)\n",
    "run_name +=\"_dropout_\"+str(PERC_DROPOUT)+\"_early_stop_shuffle\"\n",
    "logpath = generate_unique_logpath(\"./logs_tensorboard\", run_name)\n",
    "tbcb = TensorBoard(log_dir=logpath)\n",
    "\n",
    "#Model \n",
    "model2= Sequential()\n",
    "model2.add(Embedding(len(word_index)+1,\n",
    "                            EMBEDDING_DIM,\n",
    "                            input_length=MAX_SEQUENCE_LENGTH,\n",
    "                            trainable=True))\n",
    "model2.add(GRU(NB_LSTM))\n",
    "model2.add(Dropout(PERC_DROPOUT))\n",
    "model2.add((Dense(NB_CATEGORIES)))\n",
    "model2.add(Activation('softmax')) # reminder sigmoid if is for binary classification\n",
    "model2.compile(loss=sparse_categorical_crossentropy, optimizer=optz, metrics=['accuracy'])\n",
    "print(model2.summary())\n",
    "early_stop = EarlyStopping(monitor='val_loss', patience=2, verbose=1,  mode='auto')\n",
    "checkpoint_filepath = os.path.join(logpath,  \"model.h1\")\n",
    "checkpoint_cb = ModelCheckpoint(checkpoint_filepath, save_best_only=True)\n",
    "model2.fit(X_train, y_train,\n",
    "            validation_data=(X_test, y_test), \n",
    "            epochs=EPOCHS,\n",
    "            shuffle=True,\n",
    "            batch_size=64,\n",
    "            verbose=1,\n",
    "            callbacks=[tbcb])\n"
   ]
  },
  {
   "cell_type": "code",
   "execution_count": 17,
   "metadata": {},
   "outputs": [
    {
     "ename": "ValueError",
     "evalue": "Input 0 is incompatible with layer gru_7: expected ndim=3, found ndim=2",
     "output_type": "error",
     "traceback": [
      "\u001b[0;31m---------------------------------------------------------------------------\u001b[0m",
      "\u001b[0;31mValueError\u001b[0m                                Traceback (most recent call last)",
      "\u001b[0;32m<ipython-input-17-103c7235100a>\u001b[0m in \u001b[0;36m<module>\u001b[0;34m()\u001b[0m\n\u001b[1;32m     20\u001b[0m \u001b[0mmodel3\u001b[0m\u001b[0;34m.\u001b[0m\u001b[0madd\u001b[0m\u001b[0;34m(\u001b[0m\u001b[0mGRU\u001b[0m\u001b[0;34m(\u001b[0m\u001b[0mNB_LSTM\u001b[0m\u001b[0;34m)\u001b[0m\u001b[0;34m)\u001b[0m\u001b[0;34m\u001b[0m\u001b[0m\n\u001b[1;32m     21\u001b[0m \u001b[0mmodel3\u001b[0m\u001b[0;34m.\u001b[0m\u001b[0madd\u001b[0m\u001b[0;34m(\u001b[0m\u001b[0mDropout\u001b[0m\u001b[0;34m(\u001b[0m\u001b[0mPERC_DROPOUT\u001b[0m\u001b[0;34m)\u001b[0m\u001b[0;34m)\u001b[0m\u001b[0;34m\u001b[0m\u001b[0m\n\u001b[0;32m---> 22\u001b[0;31m \u001b[0mmodel3\u001b[0m\u001b[0;34m.\u001b[0m\u001b[0madd\u001b[0m\u001b[0;34m(\u001b[0m\u001b[0mGRU\u001b[0m\u001b[0;34m(\u001b[0m\u001b[0mNB_LSTM\u001b[0m\u001b[0;34m)\u001b[0m\u001b[0;34m)\u001b[0m\u001b[0;34m\u001b[0m\u001b[0m\n\u001b[0m\u001b[1;32m     23\u001b[0m \u001b[0mmodel3\u001b[0m\u001b[0;34m.\u001b[0m\u001b[0madd\u001b[0m\u001b[0;34m(\u001b[0m\u001b[0mDropout\u001b[0m\u001b[0;34m(\u001b[0m\u001b[0mPERC_DROPOUT\u001b[0m\u001b[0;34m)\u001b[0m\u001b[0;34m)\u001b[0m\u001b[0;34m\u001b[0m\u001b[0m\n\u001b[1;32m     24\u001b[0m \u001b[0mmodel3\u001b[0m\u001b[0;34m.\u001b[0m\u001b[0madd\u001b[0m\u001b[0;34m(\u001b[0m\u001b[0;34m(\u001b[0m\u001b[0mDense\u001b[0m\u001b[0;34m(\u001b[0m\u001b[0mNB_CATEGORIES\u001b[0m\u001b[0;34m)\u001b[0m\u001b[0;34m)\u001b[0m\u001b[0;34m)\u001b[0m\u001b[0;34m\u001b[0m\u001b[0m\n",
      "\u001b[0;32m/usr/local/lib/python3.5/dist-packages/keras/models.py\u001b[0m in \u001b[0;36madd\u001b[0;34m(self, layer)\u001b[0m\n\u001b[1;32m    473\u001b[0m                           output_shapes=[self.outputs[0]._keras_shape])\n\u001b[1;32m    474\u001b[0m         \u001b[0;32melse\u001b[0m\u001b[0;34m:\u001b[0m\u001b[0;34m\u001b[0m\u001b[0m\n\u001b[0;32m--> 475\u001b[0;31m             \u001b[0moutput_tensor\u001b[0m \u001b[0;34m=\u001b[0m \u001b[0mlayer\u001b[0m\u001b[0;34m(\u001b[0m\u001b[0mself\u001b[0m\u001b[0;34m.\u001b[0m\u001b[0moutputs\u001b[0m\u001b[0;34m[\u001b[0m\u001b[0;36m0\u001b[0m\u001b[0;34m]\u001b[0m\u001b[0;34m)\u001b[0m\u001b[0;34m\u001b[0m\u001b[0m\n\u001b[0m\u001b[1;32m    476\u001b[0m             \u001b[0;32mif\u001b[0m \u001b[0misinstance\u001b[0m\u001b[0;34m(\u001b[0m\u001b[0moutput_tensor\u001b[0m\u001b[0;34m,\u001b[0m \u001b[0mlist\u001b[0m\u001b[0;34m)\u001b[0m\u001b[0;34m:\u001b[0m\u001b[0;34m\u001b[0m\u001b[0m\n\u001b[1;32m    477\u001b[0m                 raise TypeError('All layers in a Sequential model '\n",
      "\u001b[0;32m/usr/local/lib/python3.5/dist-packages/keras/layers/recurrent.py\u001b[0m in \u001b[0;36m__call__\u001b[0;34m(self, inputs, initial_state, constants, **kwargs)\u001b[0m\n\u001b[1;32m    481\u001b[0m \u001b[0;34m\u001b[0m\u001b[0m\n\u001b[1;32m    482\u001b[0m         \u001b[0;32mif\u001b[0m \u001b[0minitial_state\u001b[0m \u001b[0;32mis\u001b[0m \u001b[0;32mNone\u001b[0m \u001b[0;32mand\u001b[0m \u001b[0mconstants\u001b[0m \u001b[0;32mis\u001b[0m \u001b[0;32mNone\u001b[0m\u001b[0;34m:\u001b[0m\u001b[0;34m\u001b[0m\u001b[0m\n\u001b[0;32m--> 483\u001b[0;31m             \u001b[0;32mreturn\u001b[0m \u001b[0msuper\u001b[0m\u001b[0;34m(\u001b[0m\u001b[0mRNN\u001b[0m\u001b[0;34m,\u001b[0m \u001b[0mself\u001b[0m\u001b[0;34m)\u001b[0m\u001b[0;34m.\u001b[0m\u001b[0m__call__\u001b[0m\u001b[0;34m(\u001b[0m\u001b[0minputs\u001b[0m\u001b[0;34m,\u001b[0m \u001b[0;34m**\u001b[0m\u001b[0mkwargs\u001b[0m\u001b[0;34m)\u001b[0m\u001b[0;34m\u001b[0m\u001b[0m\n\u001b[0m\u001b[1;32m    484\u001b[0m \u001b[0;34m\u001b[0m\u001b[0m\n\u001b[1;32m    485\u001b[0m         \u001b[0;31m# If any of `initial_state` or `constants` are specified and are Keras\u001b[0m\u001b[0;34m\u001b[0m\u001b[0;34m\u001b[0m\u001b[0m\n",
      "\u001b[0;32m/usr/local/lib/python3.5/dist-packages/keras/engine/topology.py\u001b[0m in \u001b[0;36m__call__\u001b[0;34m(self, inputs, **kwargs)\u001b[0m\n\u001b[1;32m    557\u001b[0m                 \u001b[0;31m# Raise exceptions in case the input is not compatible\u001b[0m\u001b[0;34m\u001b[0m\u001b[0;34m\u001b[0m\u001b[0m\n\u001b[1;32m    558\u001b[0m                 \u001b[0;31m# with the input_spec specified in the layer constructor.\u001b[0m\u001b[0;34m\u001b[0m\u001b[0;34m\u001b[0m\u001b[0m\n\u001b[0;32m--> 559\u001b[0;31m                 \u001b[0mself\u001b[0m\u001b[0;34m.\u001b[0m\u001b[0massert_input_compatibility\u001b[0m\u001b[0;34m(\u001b[0m\u001b[0minputs\u001b[0m\u001b[0;34m)\u001b[0m\u001b[0;34m\u001b[0m\u001b[0m\n\u001b[0m\u001b[1;32m    560\u001b[0m \u001b[0;34m\u001b[0m\u001b[0m\n\u001b[1;32m    561\u001b[0m                 \u001b[0;31m# Collect input shapes to build layer.\u001b[0m\u001b[0;34m\u001b[0m\u001b[0;34m\u001b[0m\u001b[0m\n",
      "\u001b[0;32m/usr/local/lib/python3.5/dist-packages/keras/engine/topology.py\u001b[0m in \u001b[0;36massert_input_compatibility\u001b[0;34m(self, inputs)\u001b[0m\n\u001b[1;32m    456\u001b[0m                                      \u001b[0mself\u001b[0m\u001b[0;34m.\u001b[0m\u001b[0mname\u001b[0m \u001b[0;34m+\u001b[0m \u001b[0;34m': expected ndim='\u001b[0m \u001b[0;34m+\u001b[0m\u001b[0;34m\u001b[0m\u001b[0m\n\u001b[1;32m    457\u001b[0m                                      \u001b[0mstr\u001b[0m\u001b[0;34m(\u001b[0m\u001b[0mspec\u001b[0m\u001b[0;34m.\u001b[0m\u001b[0mndim\u001b[0m\u001b[0;34m)\u001b[0m \u001b[0;34m+\u001b[0m \u001b[0;34m', found ndim='\u001b[0m \u001b[0;34m+\u001b[0m\u001b[0;34m\u001b[0m\u001b[0m\n\u001b[0;32m--> 458\u001b[0;31m                                      str(K.ndim(x)))\n\u001b[0m\u001b[1;32m    459\u001b[0m             \u001b[0;32mif\u001b[0m \u001b[0mspec\u001b[0m\u001b[0;34m.\u001b[0m\u001b[0mmax_ndim\u001b[0m \u001b[0;32mis\u001b[0m \u001b[0;32mnot\u001b[0m \u001b[0;32mNone\u001b[0m\u001b[0;34m:\u001b[0m\u001b[0;34m\u001b[0m\u001b[0m\n\u001b[1;32m    460\u001b[0m                 \u001b[0mndim\u001b[0m \u001b[0;34m=\u001b[0m \u001b[0mK\u001b[0m\u001b[0;34m.\u001b[0m\u001b[0mndim\u001b[0m\u001b[0;34m(\u001b[0m\u001b[0mx\u001b[0m\u001b[0;34m)\u001b[0m\u001b[0;34m\u001b[0m\u001b[0m\n",
      "\u001b[0;31mValueError\u001b[0m: Input 0 is incompatible with layer gru_7: expected ndim=3, found ndim=2"
     ]
    }
   ],
   "source": [
    "\n",
    "# TEST 2 \n",
    "PERC_DROPOUT = 0.2 # to test between 0.2 and 0.5\n",
    "EPOCHS = 100\n",
    "EMBEDDING_DIM = 200\n",
    "NB_CATEGORIES = len(targets)\n",
    "NB_LSTM = 10\n",
    "run_name = \"stemming_gru_\"+str(NB_LSTM)+\"_rmsprop_\"+str(LEARNING_RATE)\n",
    "run_name += \"_decay_embedding_\"+str(EMBEDDING_DIM)\n",
    "run_name +=\"_dropout_\"+str(PERC_DROPOUT)+\"_early_stop_shuffle\"\n",
    "logpath = generate_unique_logpath(\"./logs_tensorboard\", run_name)\n",
    "tbcb = TensorBoard(log_dir=logpath)\n",
    "\n",
    "#Model \n",
    "model3= Sequential()\n",
    "model3.add(Embedding(len(word_index)+1,\n",
    "                            EMBEDDING_DIM,\n",
    "                            input_length=MAX_SEQUENCE_LENGTH,\n",
    "                            trainable=True))\n",
    "model3.add(GRU(NB_LSTM))\n",
    "model3.add(Dropout(PERC_DROPOUT))\n",
    "model3.add(GRU(NB_LSTM))\n",
    "model3.add(Dropout(PERC_DROPOUT))\n",
    "model3.add((Dense(NB_CATEGORIES)))\n",
    "model3.add(Activation('softmax')) # reminder sigmoid if is for binary classification\n",
    "model3.compile(loss=sparse_categorical_crossentropy, optimizer=optz, metrics=['accuracy'])\n",
    "print(model3.summary())\n",
    "early_stop = EarlyStopping(monitor='val_loss', patience=2, verbose=1,  mode='auto')\n",
    "checkpoint_filepath = os.path.join(logpath,  \"model.h1\")\n",
    "checkpoint_cb = ModelCheckpoint(checkpoint_filepath, save_best_only=True)\n",
    "model3.fit(X_train, y_train,\n",
    "            validation_data=(X_test, y_test), \n",
    "            epochs=EPOCHS,\n",
    "            shuffle=True,\n",
    "            batch_size=64,\n",
    "            verbose=1,\n",
    "            callbacks=[tbcb])\n"
   ]
  },
  {
   "cell_type": "code",
   "execution_count": null,
   "metadata": {},
   "outputs": [],
   "source": []
  }
 ],
 "metadata": {
  "kernelspec": {
   "display_name": "Python 3",
   "language": "python",
   "name": "python3"
  },
  "language_info": {
   "codemirror_mode": {
    "name": "ipython",
    "version": 3
   },
   "file_extension": ".py",
   "mimetype": "text/x-python",
   "name": "python",
   "nbconvert_exporter": "python",
   "pygments_lexer": "ipython3",
   "version": "3.5.2"
  }
 },
 "nbformat": 4,
 "nbformat_minor": 2
}
